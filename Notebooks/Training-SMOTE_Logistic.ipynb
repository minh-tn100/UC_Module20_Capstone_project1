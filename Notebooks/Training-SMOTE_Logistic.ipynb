{
 "cells": [
  {
   "cell_type": "markdown",
   "id": "1c071fb2-7fd7-4602-904f-f9460af41997",
   "metadata": {},
   "source": [
    "# Logistic Regression"
   ]
  },
  {
   "cell_type": "code",
   "execution_count": 27,
   "id": "a0483c05-ecf4-4646-af38-7238555a2f26",
   "metadata": {
    "tags": []
   },
   "outputs": [],
   "source": [
    "# !pip install imblearn\n",
    "\n",
    "import os\n",
    "import pandas as pd\n",
    "import numpy as np\n",
    "\n",
    "# store elements as dictionary keys and their counts as dictionary values\n",
    "from collections import Counter\n",
    "\n",
    "# scikit-learn\n",
    "from sklearn.model_selection import train_test_split\n",
    "\n",
    "from sklearn.preprocessing import MinMaxScaler, OneHotEncoder, LabelEncoder\n",
    "from sklearn.compose import ColumnTransformer, make_column_transformer\n",
    "from sklearn.pipeline import make_pipeline\n",
    "\n",
    "# Classification metrics\n",
    "from sklearn.metrics import confusion_matrix, classification_report\n",
    "\n",
    "# Function for creating model pipelines - sklearn\n",
    "from sklearn.pipeline import make_pipeline\n",
    "\n",
    "# Function for creating model pipelines - imblearn\n",
    "from imblearn.pipeline import make_pipeline as imbl_pipe\n",
    "\n",
    "# Over-sampling using SMOTE\n",
    "from imblearn.over_sampling import SMOTE\n",
    "# Import classifier\n",
    "from sklearn.linear_model import LogisticRegression \n",
    "import datetime as dt\n",
    "import pandas as pd\n",
    "import seaborn as sns\n",
    "import matplotlib.pyplot as plt\n",
    "from sklearn.model_selection import train_test_split\n",
    "from sklearn.preprocessing import MinMaxScaler\n",
    "pd.set_option('display.max_columns', None)\n",
    "pd.set_option('display.max_rows', None)\n",
    "from sklearn.model_selection import GridSearchCV"
   ]
  },
  {
   "cell_type": "markdown",
   "id": "7a74bfb7-d78e-40c1-afd2-f5f96132cfe3",
   "metadata": {},
   "source": [
    "## Read proprocessed data"
   ]
  },
  {
   "cell_type": "code",
   "execution_count": 3,
   "id": "f3e2964c-2b9a-48de-bb60-f2dc3b3fdb37",
   "metadata": {
    "tags": []
   },
   "outputs": [],
   "source": [
    "df = pd.read_parquet('df_age_18.parquet')"
   ]
  },
  {
   "cell_type": "markdown",
   "id": "2eaec737-573c-4358-b40a-57d9473a2e9b",
   "metadata": {},
   "source": [
    "## Display counts and percentages of target variable"
   ]
  },
  {
   "cell_type": "code",
   "execution_count": 4,
   "id": "6d734229-ca20-4154-b8d5-16728d599a65",
   "metadata": {
    "tags": []
   },
   "outputs": [
    {
     "name": "stdout",
     "output_type": "stream",
     "text": [
      "     Count  Percentage\n",
      "Y                     \n",
      "1  1147466   65.274965\n",
      "0   610430   34.725035\n"
     ]
    }
   ],
   "source": [
    "# Display counts and percentages\n",
    "value_counts = df['Y'].value_counts()\n",
    "percentages = df['Y'].value_counts(normalize=True) * 100\n",
    "\n",
    "result_df = pd.DataFrame({'Count': value_counts, 'Percentage': percentages})\n",
    "print(result_df)"
   ]
  },
  {
   "cell_type": "markdown",
   "id": "af162bda-260e-4ed0-b78d-744a9a176690",
   "metadata": {},
   "source": [
    "## Drop unnecessary columns"
   ]
  },
  {
   "cell_type": "code",
   "execution_count": 5,
   "id": "b0e1a0ca-d753-4e6a-b138-b49e0d2f8863",
   "metadata": {
    "tags": []
   },
   "outputs": [],
   "source": [
    "df.drop(columns=['#','EBANK_FIRST_OPEN_DATE','CIF_OPEN_DATE',\n",
    " 'MB2_FIRST_OPEN_DATE',\n",
    " 'SYM_RUN_DATE'],inplace=True)"
   ]
  },
  {
   "cell_type": "markdown",
   "id": "c180aac1-a809-40d8-8463-bb471890a8fb",
   "metadata": {},
   "source": [
    "## Check null columns"
   ]
  },
  {
   "cell_type": "code",
   "execution_count": 6,
   "id": "0c9a16e6-e038-4ace-8d41-7d3390ae308b",
   "metadata": {
    "tags": []
   },
   "outputs": [
    {
     "data": {
      "text/plain": [
       "CLIENT_NO                                  0\n",
       "CIF_OPEN_CHANNEL                           0\n",
       "CIF_MOB                                    0\n",
       "EBANK_FIRST_OPEN_CHANNEL                   0\n",
       "EBANK_CHANNEL_GROUP                        0\n",
       "EBANK_MOB                                  0\n",
       "GENDER                                     0\n",
       "AGE                                        0\n",
       "MB2_FIRST_CHANNEL                          0\n",
       "MB2_CHANNEL_GROUP                          0\n",
       "EBANK_FLAG                                 0\n",
       "LOGIN_MB2_DAY_CNT_1M                       0\n",
       "LOGIN_MB1_DAY_CNT_1M                       0\n",
       "TRANS_DAY_CNT_1M                           0\n",
       "QUICKVIEW_MB2_DAY_CNT_1M                   0\n",
       "ACTIVE_DAY_CNT_1M                          0\n",
       "CC_FLAG                                    0\n",
       "CC_SPENDING_AMT_12M                        0\n",
       "CC_SPENDING_CNT_12M                        0\n",
       "CC_SPENDING_AMT_POS_12M                    0\n",
       "CC_SPENDING_AMT_ECOM_12M                   0\n",
       "CC_SPENDING_AMT_CASH_12M                   0\n",
       "CC_SPENDING_CNT_POS_12M                    0\n",
       "CC_SPENDING_CNT_ECOM_12M                   0\n",
       "CC_SPENDING_CNT_CASH_12M                   0\n",
       "CC_SPENDING_AMT_9M                         0\n",
       "CC_SPENDING_CNT_9M                         0\n",
       "CC_SPENDING_AMT_POS_9M                     0\n",
       "CC_SPENDING_AMT_ECOM_9M                    0\n",
       "CC_SPENDING_AMT_CASH_9M                    0\n",
       "CC_SPENDING_CNT_POS_9M                     0\n",
       "CC_SPENDING_CNT_ECOM_9M                    0\n",
       "CC_SPENDING_CNT_CASH_9M                    0\n",
       "CC_SPENDING_AMT_6M                         0\n",
       "CC_SPENDING_CNT_6M                         0\n",
       "CC_SPENDING_AMT_POS_6M                     0\n",
       "CC_SPENDING_AMT_ECOM_6M                    0\n",
       "CC_SPENDING_AMT_CASH_6M                    0\n",
       "CC_SPENDING_CNT_POS_6M                     0\n",
       "CC_SPENDING_CNT_ECOM_6M                    0\n",
       "CC_SPENDING_CNT_CASH_6M                    0\n",
       "CC_SPENDING_AMT_3M                         0\n",
       "CC_SPENDING_CNT_3M                         0\n",
       "CC_SPENDING_AMT_POS_3M                     0\n",
       "CC_SPENDING_AMT_ECOM_3M                    0\n",
       "CC_SPENDING_AMT_CASH_3M                    0\n",
       "CC_SPENDING_CNT_POS_3M                     0\n",
       "CC_SPENDING_CNT_ECOM_3M                    0\n",
       "CC_SPENDING_CNT_CASH_3M                    0\n",
       "CA_FLAG                                    0\n",
       "TD_FLAG                                    0\n",
       "DIGI_FLAG                                  0\n",
       "CREDIT_TXN_AMT_12M                         0\n",
       "DEBIT_TXN_AMT_12M                          0\n",
       "CREDIT_TXN_CNT_12M                         0\n",
       "DEBIT_TXN_CNT_12M                          0\n",
       "CREDIT_TXN_AMT_3M                          0\n",
       "DEBIT_TXN_AMT_3M                           0\n",
       "CREDIT_TXN_CNT_3M                          0\n",
       "DEBIT_TXN_CNT_3M                           0\n",
       "CREDIT_TXN_AMT_6M                          0\n",
       "DEBIT_TXN_AMT_6M                           0\n",
       "CREDIT_TXN_CNT_6M                          0\n",
       "DEBIT_TXN_CNT_6M                           0\n",
       "CREDIT_TXN_AMT_9M                          0\n",
       "DEBIT_TXN_AMT_9M                           0\n",
       "CREDIT_TXN_CNT_9M                          0\n",
       "DEBIT_TXN_CNT_9M                           0\n",
       "MB2_TRANS_CNT_3M                     1204208\n",
       "MB2_TRANS_AMT_3M                     1204208\n",
       "MB2_TF_TRANS_CNT_3M                  1204208\n",
       "MB2_TF_TRANS_AMT_3M                  1204208\n",
       "MB2_BP_TRANS_CNT_3M                  1204208\n",
       "MB2_BP_TRANS_AMT_3M                  1204208\n",
       "MB2_TO_TRANS_CNT_3M                  1204208\n",
       "MB2_TO_TRANS_AMT_3M                  1204208\n",
       "MB2_TRANS_CNT_6M                     1204208\n",
       "MB2_TRANS_AMT_6M                     1540812\n",
       "MB2_TF_TRANS_CNT_6M                  1204208\n",
       "MB2_TF_TRANS_AMT_6M                  1204208\n",
       "MB2_BP_TRANS_CNT_6M                  1204208\n",
       "MB2_BP_TRANS_AMT_6M                  1204208\n",
       "MB2_TO_TRANS_CNT_6M                  1204208\n",
       "MB2_TO_TRANS_AMT_6M                  1204208\n",
       "TOTAL_LOAN_CNT_2023                        0\n",
       "TOTAL_LOAN_AMT_2023                        0\n",
       "AUTO_LOAN_AMT_2023                         0\n",
       "BUSINESS_LOAN_AMT_2023                     0\n",
       "MORTGAGE_LOAN_AMT_2023                     0\n",
       "SECURED_LOAN_AMT_2023                      0\n",
       "UNSECURED_LOAN_AMT_2023                    0\n",
       "LOAN_FLAG                                  0\n",
       "AUTO_LOAN_FLAG                             0\n",
       "MORTGAGE_LOAN_FLAG                         0\n",
       "BUSINESS_LOAN_FLAG                         0\n",
       "SECURED_LOAN_FLAG                          0\n",
       "UNSECURED_LOAN_FLAG                        0\n",
       "CURBAL_LOANS                               0\n",
       "CURBAL_AUTO_LOANS                          0\n",
       "CURBAL_MORTGAGE_LOANS                      0\n",
       "CURBAL_BUSINESS_LOANS                      0\n",
       "CURBAL_SECURED_LOANS                       0\n",
       "CURBAL_UNSECURED_LOANS                     0\n",
       "VIEW_ACCOUNT_INFO_CNT_3M                   0\n",
       "ACCOUNT_MANAGEMENT_CNT_3M                  0\n",
       "LOAN_MANAGEMENT_CNT_3M                     0\n",
       "CREDIT_CARD_MANAGEMENT_CNT_3M              0\n",
       "MORE_USAGE_CNT_3M                          0\n",
       "SECURITY_CNT_3M                            0\n",
       "AR_CNT_3M                                  0\n",
       "PIGGY_CNT_3M                               0\n",
       "VOICEBOT_CNT_3M                            0\n",
       "VIB_CARE_INSURANCE_CNT_3M                  0\n",
       "VIEW_ACCOUNT_INFO_DAY_CNT_3M               0\n",
       "ACCOUNT_MANAGEMENT_DAY_CNT_3M              0\n",
       "LOAN_MANAGEMENT_DAY_CNT_3M                 0\n",
       "CREDIT_CARD_MANAGEMENT_DAY_CNT_3M          0\n",
       "MORE_USAGE_DAY_CNT_3M                      0\n",
       "SECURITY_DAY_CNT_3M                        0\n",
       "AR_DAY_CNT_3M                              0\n",
       "PIGGY_DAY_CNT_3M                           0\n",
       "VOICEBOT_DAY_CNT_3M                        0\n",
       "VIB_CARE_INSURANCE_DAY_CNT_3M              0\n",
       "VIEW_ACCOUNT_INFO_CNT_1M                   0\n",
       "ACCOUNT_MANAGEMENT_CNT_1M                  0\n",
       "LOAN_MANAGEMENT_CNT_1M                     0\n",
       "CREDIT_CARD_MANAGEMENT_CNT_1M              0\n",
       "MORE_USAGE_CNT_1M                          0\n",
       "SECURITY_CNT_1M                            0\n",
       "AR_CNT_1M                                  0\n",
       "PIGGY_CNT_1M                               0\n",
       "VOICEBOT_CNT_1M                            0\n",
       "VIB_CARE_INSURANCE_CNT_1M                  0\n",
       "VIEW_ACCOUNT_INFO_DAY_CNT_1M               0\n",
       "ACCOUNT_MANAGEMENT_DAY_CNT_1M              0\n",
       "LOAN_MANAGEMENT_DAY_CNT_1M                 0\n",
       "CREDIT_CARD_MANAGEMENT_DAY_CNT_1M          0\n",
       "MORE_USAGE_DAY_CNT_1M                      0\n",
       "SECURITY_DAY_CNT_1M                        0\n",
       "AR_DAY_CNT_1M                              0\n",
       "PIGGY_DAY_CNT_1M                           0\n",
       "VOICEBOT_DAY_CNT_1M                        0\n",
       "VIB_CARE_INSURANCE_DAY_CNT_1M              0\n",
       "Y                                          0\n",
       "dtype: int64"
      ]
     },
     "execution_count": 6,
     "metadata": {},
     "output_type": "execute_result"
    }
   ],
   "source": [
    "df.isnull().sum()"
   ]
  },
  {
   "cell_type": "markdown",
   "id": "bf06381e-acc2-4eed-9926-13618bc733e0",
   "metadata": {},
   "source": [
    "## Fill missing values with 0"
   ]
  },
  {
   "cell_type": "code",
   "execution_count": 7,
   "id": "9e142957-60dd-4cb0-befe-3dfde1379d12",
   "metadata": {
    "tags": []
   },
   "outputs": [],
   "source": [
    "df.fillna(0,inplace=True)"
   ]
  },
  {
   "cell_type": "markdown",
   "id": "71407cd5-bc93-4ff8-9aa0-3591cdefaed2",
   "metadata": {},
   "source": [
    "## Recheck after fill missing values"
   ]
  },
  {
   "cell_type": "code",
   "execution_count": 8,
   "id": "5c1f9ba4-f068-49c6-bca8-89e64b19f530",
   "metadata": {
    "tags": []
   },
   "outputs": [
    {
     "data": {
      "text/plain": [
       "CLIENT_NO                            0\n",
       "CIF_OPEN_CHANNEL                     0\n",
       "CIF_MOB                              0\n",
       "EBANK_FIRST_OPEN_CHANNEL             0\n",
       "EBANK_CHANNEL_GROUP                  0\n",
       "EBANK_MOB                            0\n",
       "GENDER                               0\n",
       "AGE                                  0\n",
       "MB2_FIRST_CHANNEL                    0\n",
       "MB2_CHANNEL_GROUP                    0\n",
       "EBANK_FLAG                           0\n",
       "LOGIN_MB2_DAY_CNT_1M                 0\n",
       "LOGIN_MB1_DAY_CNT_1M                 0\n",
       "TRANS_DAY_CNT_1M                     0\n",
       "QUICKVIEW_MB2_DAY_CNT_1M             0\n",
       "ACTIVE_DAY_CNT_1M                    0\n",
       "CC_FLAG                              0\n",
       "CC_SPENDING_AMT_12M                  0\n",
       "CC_SPENDING_CNT_12M                  0\n",
       "CC_SPENDING_AMT_POS_12M              0\n",
       "CC_SPENDING_AMT_ECOM_12M             0\n",
       "CC_SPENDING_AMT_CASH_12M             0\n",
       "CC_SPENDING_CNT_POS_12M              0\n",
       "CC_SPENDING_CNT_ECOM_12M             0\n",
       "CC_SPENDING_CNT_CASH_12M             0\n",
       "CC_SPENDING_AMT_9M                   0\n",
       "CC_SPENDING_CNT_9M                   0\n",
       "CC_SPENDING_AMT_POS_9M               0\n",
       "CC_SPENDING_AMT_ECOM_9M              0\n",
       "CC_SPENDING_AMT_CASH_9M              0\n",
       "CC_SPENDING_CNT_POS_9M               0\n",
       "CC_SPENDING_CNT_ECOM_9M              0\n",
       "CC_SPENDING_CNT_CASH_9M              0\n",
       "CC_SPENDING_AMT_6M                   0\n",
       "CC_SPENDING_CNT_6M                   0\n",
       "CC_SPENDING_AMT_POS_6M               0\n",
       "CC_SPENDING_AMT_ECOM_6M              0\n",
       "CC_SPENDING_AMT_CASH_6M              0\n",
       "CC_SPENDING_CNT_POS_6M               0\n",
       "CC_SPENDING_CNT_ECOM_6M              0\n",
       "CC_SPENDING_CNT_CASH_6M              0\n",
       "CC_SPENDING_AMT_3M                   0\n",
       "CC_SPENDING_CNT_3M                   0\n",
       "CC_SPENDING_AMT_POS_3M               0\n",
       "CC_SPENDING_AMT_ECOM_3M              0\n",
       "CC_SPENDING_AMT_CASH_3M              0\n",
       "CC_SPENDING_CNT_POS_3M               0\n",
       "CC_SPENDING_CNT_ECOM_3M              0\n",
       "CC_SPENDING_CNT_CASH_3M              0\n",
       "CA_FLAG                              0\n",
       "TD_FLAG                              0\n",
       "DIGI_FLAG                            0\n",
       "CREDIT_TXN_AMT_12M                   0\n",
       "DEBIT_TXN_AMT_12M                    0\n",
       "CREDIT_TXN_CNT_12M                   0\n",
       "DEBIT_TXN_CNT_12M                    0\n",
       "CREDIT_TXN_AMT_3M                    0\n",
       "DEBIT_TXN_AMT_3M                     0\n",
       "CREDIT_TXN_CNT_3M                    0\n",
       "DEBIT_TXN_CNT_3M                     0\n",
       "CREDIT_TXN_AMT_6M                    0\n",
       "DEBIT_TXN_AMT_6M                     0\n",
       "CREDIT_TXN_CNT_6M                    0\n",
       "DEBIT_TXN_CNT_6M                     0\n",
       "CREDIT_TXN_AMT_9M                    0\n",
       "DEBIT_TXN_AMT_9M                     0\n",
       "CREDIT_TXN_CNT_9M                    0\n",
       "DEBIT_TXN_CNT_9M                     0\n",
       "MB2_TRANS_CNT_3M                     0\n",
       "MB2_TRANS_AMT_3M                     0\n",
       "MB2_TF_TRANS_CNT_3M                  0\n",
       "MB2_TF_TRANS_AMT_3M                  0\n",
       "MB2_BP_TRANS_CNT_3M                  0\n",
       "MB2_BP_TRANS_AMT_3M                  0\n",
       "MB2_TO_TRANS_CNT_3M                  0\n",
       "MB2_TO_TRANS_AMT_3M                  0\n",
       "MB2_TRANS_CNT_6M                     0\n",
       "MB2_TRANS_AMT_6M                     0\n",
       "MB2_TF_TRANS_CNT_6M                  0\n",
       "MB2_TF_TRANS_AMT_6M                  0\n",
       "MB2_BP_TRANS_CNT_6M                  0\n",
       "MB2_BP_TRANS_AMT_6M                  0\n",
       "MB2_TO_TRANS_CNT_6M                  0\n",
       "MB2_TO_TRANS_AMT_6M                  0\n",
       "TOTAL_LOAN_CNT_2023                  0\n",
       "TOTAL_LOAN_AMT_2023                  0\n",
       "AUTO_LOAN_AMT_2023                   0\n",
       "BUSINESS_LOAN_AMT_2023               0\n",
       "MORTGAGE_LOAN_AMT_2023               0\n",
       "SECURED_LOAN_AMT_2023                0\n",
       "UNSECURED_LOAN_AMT_2023              0\n",
       "LOAN_FLAG                            0\n",
       "AUTO_LOAN_FLAG                       0\n",
       "MORTGAGE_LOAN_FLAG                   0\n",
       "BUSINESS_LOAN_FLAG                   0\n",
       "SECURED_LOAN_FLAG                    0\n",
       "UNSECURED_LOAN_FLAG                  0\n",
       "CURBAL_LOANS                         0\n",
       "CURBAL_AUTO_LOANS                    0\n",
       "CURBAL_MORTGAGE_LOANS                0\n",
       "CURBAL_BUSINESS_LOANS                0\n",
       "CURBAL_SECURED_LOANS                 0\n",
       "CURBAL_UNSECURED_LOANS               0\n",
       "VIEW_ACCOUNT_INFO_CNT_3M             0\n",
       "ACCOUNT_MANAGEMENT_CNT_3M            0\n",
       "LOAN_MANAGEMENT_CNT_3M               0\n",
       "CREDIT_CARD_MANAGEMENT_CNT_3M        0\n",
       "MORE_USAGE_CNT_3M                    0\n",
       "SECURITY_CNT_3M                      0\n",
       "AR_CNT_3M                            0\n",
       "PIGGY_CNT_3M                         0\n",
       "VOICEBOT_CNT_3M                      0\n",
       "VIB_CARE_INSURANCE_CNT_3M            0\n",
       "VIEW_ACCOUNT_INFO_DAY_CNT_3M         0\n",
       "ACCOUNT_MANAGEMENT_DAY_CNT_3M        0\n",
       "LOAN_MANAGEMENT_DAY_CNT_3M           0\n",
       "CREDIT_CARD_MANAGEMENT_DAY_CNT_3M    0\n",
       "MORE_USAGE_DAY_CNT_3M                0\n",
       "SECURITY_DAY_CNT_3M                  0\n",
       "AR_DAY_CNT_3M                        0\n",
       "PIGGY_DAY_CNT_3M                     0\n",
       "VOICEBOT_DAY_CNT_3M                  0\n",
       "VIB_CARE_INSURANCE_DAY_CNT_3M        0\n",
       "VIEW_ACCOUNT_INFO_CNT_1M             0\n",
       "ACCOUNT_MANAGEMENT_CNT_1M            0\n",
       "LOAN_MANAGEMENT_CNT_1M               0\n",
       "CREDIT_CARD_MANAGEMENT_CNT_1M        0\n",
       "MORE_USAGE_CNT_1M                    0\n",
       "SECURITY_CNT_1M                      0\n",
       "AR_CNT_1M                            0\n",
       "PIGGY_CNT_1M                         0\n",
       "VOICEBOT_CNT_1M                      0\n",
       "VIB_CARE_INSURANCE_CNT_1M            0\n",
       "VIEW_ACCOUNT_INFO_DAY_CNT_1M         0\n",
       "ACCOUNT_MANAGEMENT_DAY_CNT_1M        0\n",
       "LOAN_MANAGEMENT_DAY_CNT_1M           0\n",
       "CREDIT_CARD_MANAGEMENT_DAY_CNT_1M    0\n",
       "MORE_USAGE_DAY_CNT_1M                0\n",
       "SECURITY_DAY_CNT_1M                  0\n",
       "AR_DAY_CNT_1M                        0\n",
       "PIGGY_DAY_CNT_1M                     0\n",
       "VOICEBOT_DAY_CNT_1M                  0\n",
       "VIB_CARE_INSURANCE_DAY_CNT_1M        0\n",
       "Y                                    0\n",
       "dtype: int64"
      ]
     },
     "execution_count": 8,
     "metadata": {},
     "output_type": "execute_result"
    }
   ],
   "source": [
    "df.isnull().sum()"
   ]
  },
  {
   "cell_type": "markdown",
   "id": "379644a1-1251-46d6-852e-44647fe62ea3",
   "metadata": {},
   "source": [
    "## Create a dataframe for correlation calculation"
   ]
  },
  {
   "cell_type": "code",
   "execution_count": 9,
   "id": "c56942d4-e5ce-4a6e-9a06-6347e1ffc0e7",
   "metadata": {
    "tags": []
   },
   "outputs": [],
   "source": [
    "df_corr = df[df.select_dtypes(include='number').columns.tolist()]"
   ]
  },
  {
   "cell_type": "markdown",
   "id": "8ab6a870-2f9c-4616-a408-2fc97632e08a",
   "metadata": {},
   "source": [
    "## Define function for filter correlation with threhold"
   ]
  },
  {
   "cell_type": "code",
   "execution_count": 10,
   "id": "447bdf37-338a-4a71-9c2a-a48fa7ebfbf8",
   "metadata": {
    "tags": []
   },
   "outputs": [],
   "source": [
    "# with the following function we can select highly correlated features\n",
    "# it will remove the first feature that is correlated with anything other feature\n",
    "\n",
    "def correlation(dataset, threshold):\n",
    "    col_corr = set()  # Set of all the names of correlated columns\n",
    "    corr_matrix = dataset.corr()\n",
    "    for i in range(len(corr_matrix.columns)):\n",
    "        for j in range(i):\n",
    "            if abs(corr_matrix.iloc[i, j]) > threshold: # we are interested in absolute coeff value\n",
    "                colname = corr_matrix.columns[i]  # getting the name of column\n",
    "                col_corr.add(colname)\n",
    "    return col_corr"
   ]
  },
  {
   "cell_type": "code",
   "execution_count": 11,
   "id": "d3278edc-d503-4c2c-9d10-fcf39c1203cb",
   "metadata": {
    "tags": []
   },
   "outputs": [
    {
     "data": {
      "text/plain": [
       "87"
      ]
     },
     "execution_count": 11,
     "metadata": {},
     "output_type": "execute_result"
    }
   ],
   "source": [
    "corr_features = correlation(df_corr, 0.7)\n",
    "len(set(corr_features))"
   ]
  },
  {
   "cell_type": "code",
   "execution_count": 12,
   "id": "d690cbfe-44ba-4e92-9f1c-e8fd9e6e2f31",
   "metadata": {
    "tags": []
   },
   "outputs": [
    {
     "data": {
      "text/plain": [
       "{'ACCOUNT_MANAGEMENT_CNT_1M',\n",
       " 'ACCOUNT_MANAGEMENT_DAY_CNT_1M',\n",
       " 'ACCOUNT_MANAGEMENT_DAY_CNT_3M',\n",
       " 'ACTIVE_DAY_CNT_1M',\n",
       " 'AR_DAY_CNT_1M',\n",
       " 'AR_DAY_CNT_3M',\n",
       " 'CC_SPENDING_AMT_3M',\n",
       " 'CC_SPENDING_AMT_6M',\n",
       " 'CC_SPENDING_AMT_9M',\n",
       " 'CC_SPENDING_AMT_CASH_3M',\n",
       " 'CC_SPENDING_AMT_CASH_6M',\n",
       " 'CC_SPENDING_AMT_CASH_9M',\n",
       " 'CC_SPENDING_AMT_ECOM_3M',\n",
       " 'CC_SPENDING_AMT_ECOM_6M',\n",
       " 'CC_SPENDING_AMT_ECOM_9M',\n",
       " 'CC_SPENDING_AMT_POS_12M',\n",
       " 'CC_SPENDING_AMT_POS_3M',\n",
       " 'CC_SPENDING_AMT_POS_6M',\n",
       " 'CC_SPENDING_AMT_POS_9M',\n",
       " 'CC_SPENDING_CNT_12M',\n",
       " 'CC_SPENDING_CNT_3M',\n",
       " 'CC_SPENDING_CNT_6M',\n",
       " 'CC_SPENDING_CNT_9M',\n",
       " 'CC_SPENDING_CNT_CASH_12M',\n",
       " 'CC_SPENDING_CNT_CASH_3M',\n",
       " 'CC_SPENDING_CNT_CASH_6M',\n",
       " 'CC_SPENDING_CNT_CASH_9M',\n",
       " 'CC_SPENDING_CNT_ECOM_3M',\n",
       " 'CC_SPENDING_CNT_ECOM_6M',\n",
       " 'CC_SPENDING_CNT_ECOM_9M',\n",
       " 'CC_SPENDING_CNT_POS_3M',\n",
       " 'CC_SPENDING_CNT_POS_6M',\n",
       " 'CC_SPENDING_CNT_POS_9M',\n",
       " 'CIF_MOB',\n",
       " 'CREDIT_CARD_MANAGEMENT_CNT_1M',\n",
       " 'CREDIT_CARD_MANAGEMENT_DAY_CNT_1M',\n",
       " 'CREDIT_CARD_MANAGEMENT_DAY_CNT_3M',\n",
       " 'CREDIT_TXN_AMT_3M',\n",
       " 'CREDIT_TXN_AMT_6M',\n",
       " 'CREDIT_TXN_AMT_9M',\n",
       " 'CREDIT_TXN_CNT_12M',\n",
       " 'CREDIT_TXN_CNT_3M',\n",
       " 'CREDIT_TXN_CNT_6M',\n",
       " 'CREDIT_TXN_CNT_9M',\n",
       " 'CURBAL_AUTO_LOANS',\n",
       " 'CURBAL_BUSINESS_LOANS',\n",
       " 'CURBAL_MORTGAGE_LOANS',\n",
       " 'CURBAL_SECURED_LOANS',\n",
       " 'CURBAL_UNSECURED_LOANS',\n",
       " 'DEBIT_TXN_AMT_12M',\n",
       " 'DEBIT_TXN_AMT_3M',\n",
       " 'DEBIT_TXN_AMT_6M',\n",
       " 'DEBIT_TXN_AMT_9M',\n",
       " 'DEBIT_TXN_CNT_12M',\n",
       " 'DEBIT_TXN_CNT_3M',\n",
       " 'DEBIT_TXN_CNT_6M',\n",
       " 'DEBIT_TXN_CNT_9M',\n",
       " 'EBANK_MOB',\n",
       " 'LOAN_MANAGEMENT_CNT_1M',\n",
       " 'LOAN_MANAGEMENT_DAY_CNT_1M',\n",
       " 'LOAN_MANAGEMENT_DAY_CNT_3M',\n",
       " 'MB2_BP_TRANS_AMT_6M',\n",
       " 'MB2_BP_TRANS_CNT_6M',\n",
       " 'MB2_TF_TRANS_AMT_3M',\n",
       " 'MB2_TF_TRANS_AMT_6M',\n",
       " 'MB2_TF_TRANS_CNT_3M',\n",
       " 'MB2_TF_TRANS_CNT_6M',\n",
       " 'MB2_TO_TRANS_AMT_6M',\n",
       " 'MB2_TO_TRANS_CNT_6M',\n",
       " 'MB2_TRANS_AMT_6M',\n",
       " 'MB2_TRANS_CNT_6M',\n",
       " 'MORE_USAGE_CNT_1M',\n",
       " 'MORE_USAGE_DAY_CNT_1M',\n",
       " 'MORTGAGE_LOAN_AMT_2023',\n",
       " 'PIGGY_DAY_CNT_1M',\n",
       " 'PIGGY_DAY_CNT_3M',\n",
       " 'SECURITY_CNT_1M',\n",
       " 'SECURITY_DAY_CNT_1M',\n",
       " 'SECURITY_DAY_CNT_3M',\n",
       " 'TRANS_DAY_CNT_1M',\n",
       " 'VIB_CARE_INSURANCE_DAY_CNT_1M',\n",
       " 'VIB_CARE_INSURANCE_DAY_CNT_3M',\n",
       " 'VIEW_ACCOUNT_INFO_CNT_1M',\n",
       " 'VIEW_ACCOUNT_INFO_DAY_CNT_1M',\n",
       " 'VIEW_ACCOUNT_INFO_DAY_CNT_3M',\n",
       " 'VOICEBOT_DAY_CNT_1M',\n",
       " 'VOICEBOT_DAY_CNT_3M'}"
      ]
     },
     "execution_count": 12,
     "metadata": {},
     "output_type": "execute_result"
    }
   ],
   "source": [
    "corr_features"
   ]
  },
  {
   "cell_type": "markdown",
   "id": "fd12eca2-989b-4493-8f57-183caa088a00",
   "metadata": {},
   "source": [
    "## Drop columns with high correlation"
   ]
  },
  {
   "cell_type": "code",
   "execution_count": 13,
   "id": "79f07234-e485-4ab6-b1ca-d8f05117cda7",
   "metadata": {
    "tags": []
   },
   "outputs": [],
   "source": [
    "df_filtered = df.drop(corr_features,axis=1)"
   ]
  },
  {
   "cell_type": "markdown",
   "id": "7efad28b-2b4e-4ea0-ac55-22d3879d1052",
   "metadata": {},
   "source": [
    "## Save filtered data to parquet file"
   ]
  },
  {
   "cell_type": "code",
   "execution_count": 14,
   "id": "378f65a8-b98e-4bde-8810-df7fe6b086c1",
   "metadata": {
    "tags": []
   },
   "outputs": [],
   "source": [
    "df_filtered.to_parquet('df_filtered_corr.parquet')"
   ]
  },
  {
   "cell_type": "code",
   "execution_count": 28,
   "id": "b28bc97b-0536-4467-908f-1f19d2b7cb38",
   "metadata": {},
   "outputs": [],
   "source": [
    "df_filtered = pd.read_parquet('df_filtered_corr.parquet')"
   ]
  },
  {
   "cell_type": "markdown",
   "id": "bf18c3e8-2408-4d22-bf6b-178ecfbcf8d7",
   "metadata": {},
   "source": [
    "## Separate dataframe into separate object"
   ]
  },
  {
   "cell_type": "code",
   "execution_count": 29,
   "id": "1bcc6549-3b61-4bf2-817a-9312c21995f4",
   "metadata": {
    "tags": []
   },
   "outputs": [
    {
     "name": "stdout",
     "output_type": "stream",
     "text": [
      "(1757896, 55) (1757896,)\n"
     ]
    }
   ],
   "source": [
    "# Object for target variable\n",
    "y = df_filtered.Y\n",
    "\n",
    "# object for input features\n",
    "X = df_filtered.drop(['CLIENT_NO','Y'], axis=1)\n",
    "\n",
    "# display shapes of X and y\n",
    "print(X.shape, y.shape)"
   ]
  },
  {
   "cell_type": "markdown",
   "id": "5523e55c-cd26-4b86-b4c0-34008330ae85",
   "metadata": {},
   "source": [
    "## List numerical features"
   ]
  },
  {
   "cell_type": "code",
   "execution_count": 30,
   "id": "655e137f-77fb-4a18-9dd6-205b5685c755",
   "metadata": {
    "tags": []
   },
   "outputs": [
    {
     "data": {
      "text/plain": [
       "['AGE',\n",
       " 'EBANK_FLAG',\n",
       " 'LOGIN_MB2_DAY_CNT_1M',\n",
       " 'LOGIN_MB1_DAY_CNT_1M',\n",
       " 'QUICKVIEW_MB2_DAY_CNT_1M',\n",
       " 'CC_FLAG',\n",
       " 'CC_SPENDING_AMT_12M',\n",
       " 'CC_SPENDING_AMT_ECOM_12M',\n",
       " 'CC_SPENDING_AMT_CASH_12M',\n",
       " 'CC_SPENDING_CNT_POS_12M',\n",
       " 'CC_SPENDING_CNT_ECOM_12M',\n",
       " 'CA_FLAG',\n",
       " 'TD_FLAG',\n",
       " 'DIGI_FLAG',\n",
       " 'CREDIT_TXN_AMT_12M',\n",
       " 'MB2_TRANS_CNT_3M',\n",
       " 'MB2_TRANS_AMT_3M',\n",
       " 'MB2_BP_TRANS_CNT_3M',\n",
       " 'MB2_BP_TRANS_AMT_3M',\n",
       " 'MB2_TO_TRANS_CNT_3M',\n",
       " 'MB2_TO_TRANS_AMT_3M',\n",
       " 'TOTAL_LOAN_CNT_2023',\n",
       " 'TOTAL_LOAN_AMT_2023',\n",
       " 'AUTO_LOAN_AMT_2023',\n",
       " 'BUSINESS_LOAN_AMT_2023',\n",
       " 'SECURED_LOAN_AMT_2023',\n",
       " 'UNSECURED_LOAN_AMT_2023',\n",
       " 'LOAN_FLAG',\n",
       " 'AUTO_LOAN_FLAG',\n",
       " 'MORTGAGE_LOAN_FLAG',\n",
       " 'BUSINESS_LOAN_FLAG',\n",
       " 'SECURED_LOAN_FLAG',\n",
       " 'UNSECURED_LOAN_FLAG',\n",
       " 'CURBAL_LOANS',\n",
       " 'VIEW_ACCOUNT_INFO_CNT_3M',\n",
       " 'ACCOUNT_MANAGEMENT_CNT_3M',\n",
       " 'LOAN_MANAGEMENT_CNT_3M',\n",
       " 'CREDIT_CARD_MANAGEMENT_CNT_3M',\n",
       " 'MORE_USAGE_CNT_3M',\n",
       " 'SECURITY_CNT_3M',\n",
       " 'AR_CNT_3M',\n",
       " 'PIGGY_CNT_3M',\n",
       " 'VOICEBOT_CNT_3M',\n",
       " 'VIB_CARE_INSURANCE_CNT_3M',\n",
       " 'MORE_USAGE_DAY_CNT_3M',\n",
       " 'AR_CNT_1M',\n",
       " 'PIGGY_CNT_1M',\n",
       " 'VOICEBOT_CNT_1M',\n",
       " 'VIB_CARE_INSURANCE_CNT_1M']"
      ]
     },
     "execution_count": 30,
     "metadata": {},
     "output_type": "execute_result"
    }
   ],
   "source": [
    "num_columns = X.select_dtypes(include='number').columns.tolist()\n",
    "num_columns"
   ]
  },
  {
   "cell_type": "markdown",
   "id": "9756c8e1-5a68-40de-9d4d-d8788c6a7a65",
   "metadata": {},
   "source": [
    "## List categorical features"
   ]
  },
  {
   "cell_type": "code",
   "execution_count": 31,
   "id": "aaeb39c6-3f79-4228-abf9-0e581b38fb42",
   "metadata": {
    "tags": []
   },
   "outputs": [
    {
     "data": {
      "text/plain": [
       "['CIF_OPEN_CHANNEL',\n",
       " 'EBANK_FIRST_OPEN_CHANNEL',\n",
       " 'EBANK_CHANNEL_GROUP',\n",
       " 'GENDER',\n",
       " 'MB2_FIRST_CHANNEL',\n",
       " 'MB2_CHANNEL_GROUP']"
      ]
     },
     "execution_count": 31,
     "metadata": {},
     "output_type": "execute_result"
    }
   ],
   "source": [
    "cat_columns = X.select_dtypes(include='object').columns.tolist()\n",
    "cat_columns"
   ]
  },
  {
   "cell_type": "markdown",
   "id": "1cc20096-604f-4ad7-8f40-571adeb8eee1",
   "metadata": {},
   "source": [
    "## Split X and y into train and test sets"
   ]
  },
  {
   "cell_type": "code",
   "execution_count": 32,
   "id": "71452417-fbde-4af7-994c-db32d458138d",
   "metadata": {
    "tags": []
   },
   "outputs": [
    {
     "name": "stdout",
     "output_type": "stream",
     "text": [
      "1230527 527369 1230527 527369\n"
     ]
    }
   ],
   "source": [
    "random_state = 10\n",
    "\n",
    "# Split X and y into train and test sets\n",
    "X_train, X_test, y_train, y_test = train_test_split(X, y,\n",
    "                                                    test_size=0.3,\n",
    "                                                    random_state=random_state,\n",
    "                                                    stratify=df_filtered.Y)\n",
    "\n",
    "# Print number of observations in X_train, X_test, y_train, and y_test\n",
    "print(len(X_train), len(X_test), len(y_train), len(y_test))"
   ]
  },
  {
   "cell_type": "code",
   "execution_count": 33,
   "id": "0e4d48be-5a51-49bc-ba99-c90f3d17cac1",
   "metadata": {
    "tags": []
   },
   "outputs": [
    {
     "name": "stdout",
     "output_type": "stream",
     "text": [
      "<class 'pandas.core.frame.DataFrame'>\n",
      "Index: 1230527 entries, 1099931 to 313896\n",
      "Data columns (total 55 columns):\n",
      " #   Column                         Non-Null Count    Dtype  \n",
      "---  ------                         --------------    -----  \n",
      " 0   CIF_OPEN_CHANNEL               1230527 non-null  object \n",
      " 1   EBANK_FIRST_OPEN_CHANNEL       1230527 non-null  object \n",
      " 2   EBANK_CHANNEL_GROUP            1230527 non-null  object \n",
      " 3   GENDER                         1230527 non-null  object \n",
      " 4   AGE                            1230527 non-null  float64\n",
      " 5   MB2_FIRST_CHANNEL              1230527 non-null  object \n",
      " 6   MB2_CHANNEL_GROUP              1230527 non-null  object \n",
      " 7   EBANK_FLAG                     1230527 non-null  int64  \n",
      " 8   LOGIN_MB2_DAY_CNT_1M           1230527 non-null  int64  \n",
      " 9   LOGIN_MB1_DAY_CNT_1M           1230527 non-null  int64  \n",
      " 10  QUICKVIEW_MB2_DAY_CNT_1M       1230527 non-null  int64  \n",
      " 11  CC_FLAG                        1230527 non-null  int64  \n",
      " 12  CC_SPENDING_AMT_12M            1230527 non-null  int64  \n",
      " 13  CC_SPENDING_AMT_ECOM_12M       1230527 non-null  int64  \n",
      " 14  CC_SPENDING_AMT_CASH_12M       1230527 non-null  int64  \n",
      " 15  CC_SPENDING_CNT_POS_12M        1230527 non-null  int64  \n",
      " 16  CC_SPENDING_CNT_ECOM_12M       1230527 non-null  int64  \n",
      " 17  CA_FLAG                        1230527 non-null  int64  \n",
      " 18  TD_FLAG                        1230527 non-null  int64  \n",
      " 19  DIGI_FLAG                      1230527 non-null  int64  \n",
      " 20  CREDIT_TXN_AMT_12M             1230527 non-null  float64\n",
      " 21  MB2_TRANS_CNT_3M               1230527 non-null  float64\n",
      " 22  MB2_TRANS_AMT_3M               1230527 non-null  float64\n",
      " 23  MB2_BP_TRANS_CNT_3M            1230527 non-null  float64\n",
      " 24  MB2_BP_TRANS_AMT_3M            1230527 non-null  float64\n",
      " 25  MB2_TO_TRANS_CNT_3M            1230527 non-null  float64\n",
      " 26  MB2_TO_TRANS_AMT_3M            1230527 non-null  float64\n",
      " 27  TOTAL_LOAN_CNT_2023            1230527 non-null  int64  \n",
      " 28  TOTAL_LOAN_AMT_2023            1230527 non-null  int64  \n",
      " 29  AUTO_LOAN_AMT_2023             1230527 non-null  int64  \n",
      " 30  BUSINESS_LOAN_AMT_2023         1230527 non-null  int64  \n",
      " 31  SECURED_LOAN_AMT_2023          1230527 non-null  int64  \n",
      " 32  UNSECURED_LOAN_AMT_2023        1230527 non-null  int64  \n",
      " 33  LOAN_FLAG                      1230527 non-null  int64  \n",
      " 34  AUTO_LOAN_FLAG                 1230527 non-null  int64  \n",
      " 35  MORTGAGE_LOAN_FLAG             1230527 non-null  int64  \n",
      " 36  BUSINESS_LOAN_FLAG             1230527 non-null  int64  \n",
      " 37  SECURED_LOAN_FLAG              1230527 non-null  int64  \n",
      " 38  UNSECURED_LOAN_FLAG            1230527 non-null  int64  \n",
      " 39  CURBAL_LOANS                   1230527 non-null  int64  \n",
      " 40  VIEW_ACCOUNT_INFO_CNT_3M       1230527 non-null  int64  \n",
      " 41  ACCOUNT_MANAGEMENT_CNT_3M      1230527 non-null  int64  \n",
      " 42  LOAN_MANAGEMENT_CNT_3M         1230527 non-null  int64  \n",
      " 43  CREDIT_CARD_MANAGEMENT_CNT_3M  1230527 non-null  int64  \n",
      " 44  MORE_USAGE_CNT_3M              1230527 non-null  int64  \n",
      " 45  SECURITY_CNT_3M                1230527 non-null  int64  \n",
      " 46  AR_CNT_3M                      1230527 non-null  int64  \n",
      " 47  PIGGY_CNT_3M                   1230527 non-null  int64  \n",
      " 48  VOICEBOT_CNT_3M                1230527 non-null  int64  \n",
      " 49  VIB_CARE_INSURANCE_CNT_3M      1230527 non-null  int64  \n",
      " 50  MORE_USAGE_DAY_CNT_3M          1230527 non-null  int64  \n",
      " 51  AR_CNT_1M                      1230527 non-null  int64  \n",
      " 52  PIGGY_CNT_1M                   1230527 non-null  int64  \n",
      " 53  VOICEBOT_CNT_1M                1230527 non-null  int64  \n",
      " 54  VIB_CARE_INSURANCE_CNT_1M      1230527 non-null  int64  \n",
      "dtypes: float64(8), int64(41), object(6)\n",
      "memory usage: 525.7+ MB\n"
     ]
    }
   ],
   "source": [
    "X_train.info()"
   ]
  },
  {
   "cell_type": "code",
   "execution_count": 34,
   "id": "0f11393b-a85f-4479-a45f-cbf36e513901",
   "metadata": {
    "tags": []
   },
   "outputs": [
    {
     "name": "stdout",
     "output_type": "stream",
     "text": [
      "[4, 7, 8, 9, 10, 11, 12, 13, 14, 15, 16, 17, 18, 19, 20, 21, 22, 23, 24, 25, 26, 27, 28, 29, 30, 31, 32, 33, 34, 35, 36, 37, 38, 39, 40, 41, 42, 43, 44, 45, 46, 47, 48, 49, 50, 51, 52, 53, 54]\n"
     ]
    }
   ],
   "source": [
    "num_features = []\n",
    "\n",
    "for i in num_columns:\n",
    "    location = X.columns.get_loc(i)\n",
    "    num_features.append(location)\n",
    "print(num_features)"
   ]
  },
  {
   "cell_type": "code",
   "execution_count": 35,
   "id": "8938ca50-30a7-4e2c-a37c-ca13a89e88b2",
   "metadata": {
    "tags": []
   },
   "outputs": [
    {
     "name": "stdout",
     "output_type": "stream",
     "text": [
      "[0, 1, 2, 3, 5, 6]\n"
     ]
    }
   ],
   "source": [
    "cat_features = []\n",
    "\n",
    "for i in cat_columns:\n",
    "    location = X.columns.get_loc(i)\n",
    "    cat_features.append(location)\n",
    "print(cat_features)"
   ]
  },
  {
   "cell_type": "code",
   "execution_count": 52,
   "id": "810372db-3aca-4d0a-8673-ee7dbf30bb8e",
   "metadata": {
    "tags": []
   },
   "outputs": [
    {
     "data": {
      "text/html": [
       "<style>#sk-container-id-8 {color: black;}#sk-container-id-8 pre{padding: 0;}#sk-container-id-8 div.sk-toggleable {background-color: white;}#sk-container-id-8 label.sk-toggleable__label {cursor: pointer;display: block;width: 100%;margin-bottom: 0;padding: 0.3em;box-sizing: border-box;text-align: center;}#sk-container-id-8 label.sk-toggleable__label-arrow:before {content: \"▸\";float: left;margin-right: 0.25em;color: #696969;}#sk-container-id-8 label.sk-toggleable__label-arrow:hover:before {color: black;}#sk-container-id-8 div.sk-estimator:hover label.sk-toggleable__label-arrow:before {color: black;}#sk-container-id-8 div.sk-toggleable__content {max-height: 0;max-width: 0;overflow: hidden;text-align: left;background-color: #f0f8ff;}#sk-container-id-8 div.sk-toggleable__content pre {margin: 0.2em;color: black;border-radius: 0.25em;background-color: #f0f8ff;}#sk-container-id-8 input.sk-toggleable__control:checked~div.sk-toggleable__content {max-height: 200px;max-width: 100%;overflow: auto;}#sk-container-id-8 input.sk-toggleable__control:checked~label.sk-toggleable__label-arrow:before {content: \"▾\";}#sk-container-id-8 div.sk-estimator input.sk-toggleable__control:checked~label.sk-toggleable__label {background-color: #d4ebff;}#sk-container-id-8 div.sk-label input.sk-toggleable__control:checked~label.sk-toggleable__label {background-color: #d4ebff;}#sk-container-id-8 input.sk-hidden--visually {border: 0;clip: rect(1px 1px 1px 1px);clip: rect(1px, 1px, 1px, 1px);height: 1px;margin: -1px;overflow: hidden;padding: 0;position: absolute;width: 1px;}#sk-container-id-8 div.sk-estimator {font-family: monospace;background-color: #f0f8ff;border: 1px dotted black;border-radius: 0.25em;box-sizing: border-box;margin-bottom: 0.5em;}#sk-container-id-8 div.sk-estimator:hover {background-color: #d4ebff;}#sk-container-id-8 div.sk-parallel-item::after {content: \"\";width: 100%;border-bottom: 1px solid gray;flex-grow: 1;}#sk-container-id-8 div.sk-label:hover label.sk-toggleable__label {background-color: #d4ebff;}#sk-container-id-8 div.sk-serial::before {content: \"\";position: absolute;border-left: 1px solid gray;box-sizing: border-box;top: 0;bottom: 0;left: 50%;z-index: 0;}#sk-container-id-8 div.sk-serial {display: flex;flex-direction: column;align-items: center;background-color: white;padding-right: 0.2em;padding-left: 0.2em;position: relative;}#sk-container-id-8 div.sk-item {position: relative;z-index: 1;}#sk-container-id-8 div.sk-parallel {display: flex;align-items: stretch;justify-content: center;background-color: white;position: relative;}#sk-container-id-8 div.sk-item::before, #sk-container-id-8 div.sk-parallel-item::before {content: \"\";position: absolute;border-left: 1px solid gray;box-sizing: border-box;top: 0;bottom: 0;left: 50%;z-index: -1;}#sk-container-id-8 div.sk-parallel-item {display: flex;flex-direction: column;z-index: 1;position: relative;background-color: white;}#sk-container-id-8 div.sk-parallel-item:first-child::after {align-self: flex-end;width: 50%;}#sk-container-id-8 div.sk-parallel-item:last-child::after {align-self: flex-start;width: 50%;}#sk-container-id-8 div.sk-parallel-item:only-child::after {width: 0;}#sk-container-id-8 div.sk-dashed-wrapped {border: 1px dashed gray;margin: 0 0.4em 0.5em 0.4em;box-sizing: border-box;padding-bottom: 0.4em;background-color: white;}#sk-container-id-8 div.sk-label label {font-family: monospace;font-weight: bold;display: inline-block;line-height: 1.2em;}#sk-container-id-8 div.sk-label-container {text-align: center;}#sk-container-id-8 div.sk-container {/* jupyter's `normalize.less` sets `[hidden] { display: none; }` but bootstrap.min.css set `[hidden] { display: none !important; }` so we also need the `!important` here to be able to override the default hidden behavior on the sphinx rendered scikit-learn.org. See: https://github.com/scikit-learn/scikit-learn/issues/21755 */display: inline-block !important;position: relative;}#sk-container-id-8 div.sk-text-repr-fallback {display: none;}</style><div id=\"sk-container-id-8\" class=\"sk-top-container\"><div class=\"sk-text-repr-fallback\"><pre>ColumnTransformer(transformers=[(&#x27;minmaxscaler&#x27;, MinMaxScaler(),\n",
       "                                 [4, 7, 8, 9, 10, 11, 12, 13, 14, 15, 16, 17,\n",
       "                                  18, 19, 20, 21, 22, 23, 24, 25, 26, 27, 28,\n",
       "                                  29, 30, 31, 32, 33, 34, 35, ...]),\n",
       "                                (&#x27;onehotencoder&#x27;, OneHotEncoder(sparse=False),\n",
       "                                 [0, 1, 2, 3, 5, 6])])</pre><b>In a Jupyter environment, please rerun this cell to show the HTML representation or trust the notebook. <br />On GitHub, the HTML representation is unable to render, please try loading this page with nbviewer.org.</b></div><div class=\"sk-container\" hidden><div class=\"sk-item sk-dashed-wrapped\"><div class=\"sk-label-container\"><div class=\"sk-label sk-toggleable\"><input class=\"sk-toggleable__control sk-hidden--visually\" id=\"sk-estimator-id-29\" type=\"checkbox\" ><label for=\"sk-estimator-id-29\" class=\"sk-toggleable__label sk-toggleable__label-arrow\">ColumnTransformer</label><div class=\"sk-toggleable__content\"><pre>ColumnTransformer(transformers=[(&#x27;minmaxscaler&#x27;, MinMaxScaler(),\n",
       "                                 [4, 7, 8, 9, 10, 11, 12, 13, 14, 15, 16, 17,\n",
       "                                  18, 19, 20, 21, 22, 23, 24, 25, 26, 27, 28,\n",
       "                                  29, 30, 31, 32, 33, 34, 35, ...]),\n",
       "                                (&#x27;onehotencoder&#x27;, OneHotEncoder(sparse=False),\n",
       "                                 [0, 1, 2, 3, 5, 6])])</pre></div></div></div><div class=\"sk-parallel\"><div class=\"sk-parallel-item\"><div class=\"sk-item\"><div class=\"sk-label-container\"><div class=\"sk-label sk-toggleable\"><input class=\"sk-toggleable__control sk-hidden--visually\" id=\"sk-estimator-id-30\" type=\"checkbox\" ><label for=\"sk-estimator-id-30\" class=\"sk-toggleable__label sk-toggleable__label-arrow\">minmaxscaler</label><div class=\"sk-toggleable__content\"><pre>[4, 7, 8, 9, 10, 11, 12, 13, 14, 15, 16, 17, 18, 19, 20, 21, 22, 23, 24, 25, 26, 27, 28, 29, 30, 31, 32, 33, 34, 35, 36, 37, 38, 39, 40, 41, 42, 43, 44, 45, 46, 47, 48, 49, 50, 51, 52, 53, 54]</pre></div></div></div><div class=\"sk-serial\"><div class=\"sk-item\"><div class=\"sk-estimator sk-toggleable\"><input class=\"sk-toggleable__control sk-hidden--visually\" id=\"sk-estimator-id-31\" type=\"checkbox\" ><label for=\"sk-estimator-id-31\" class=\"sk-toggleable__label sk-toggleable__label-arrow\">MinMaxScaler</label><div class=\"sk-toggleable__content\"><pre>MinMaxScaler()</pre></div></div></div></div></div></div><div class=\"sk-parallel-item\"><div class=\"sk-item\"><div class=\"sk-label-container\"><div class=\"sk-label sk-toggleable\"><input class=\"sk-toggleable__control sk-hidden--visually\" id=\"sk-estimator-id-32\" type=\"checkbox\" ><label for=\"sk-estimator-id-32\" class=\"sk-toggleable__label sk-toggleable__label-arrow\">onehotencoder</label><div class=\"sk-toggleable__content\"><pre>[0, 1, 2, 3, 5, 6]</pre></div></div></div><div class=\"sk-serial\"><div class=\"sk-item\"><div class=\"sk-estimator sk-toggleable\"><input class=\"sk-toggleable__control sk-hidden--visually\" id=\"sk-estimator-id-33\" type=\"checkbox\" ><label for=\"sk-estimator-id-33\" class=\"sk-toggleable__label sk-toggleable__label-arrow\">OneHotEncoder</label><div class=\"sk-toggleable__content\"><pre>OneHotEncoder(sparse=False)</pre></div></div></div></div></div></div></div></div></div></div>"
      ],
      "text/plain": [
       "ColumnTransformer(transformers=[('minmaxscaler', MinMaxScaler(),\n",
       "                                 [4, 7, 8, 9, 10, 11, 12, 13, 14, 15, 16, 17,\n",
       "                                  18, 19, 20, 21, 22, 23, 24, 25, 26, 27, 28,\n",
       "                                  29, 30, 31, 32, 33, 34, 35, ...]),\n",
       "                                ('onehotencoder', OneHotEncoder(sparse=False),\n",
       "                                 [0, 1, 2, 3, 5, 6])])"
      ]
     },
     "execution_count": 52,
     "metadata": {},
     "output_type": "execute_result"
    }
   ],
   "source": [
    "# Define column transformer\n",
    "# Need to be numeric not string to specify columns name \n",
    "preprocess = make_column_transformer(\n",
    "    (MinMaxScaler(), num_features),\n",
    "    (OneHotEncoder(sparse=False), cat_features)\n",
    ")\n",
    "preprocess"
   ]
  },
  {
   "cell_type": "markdown",
   "id": "64d4c92a-6dbc-4aa5-94ff-9fd6e3b7e1f8",
   "metadata": {},
   "source": [
    "## Fit preprocessing pipeline on train data and apply to train and test data"
   ]
  },
  {
   "cell_type": "code",
   "execution_count": 53,
   "id": "98b3dfbc-7e00-4d5a-9715-4ccd02761d8f",
   "metadata": {
    "tags": []
   },
   "outputs": [
    {
     "name": "stderr",
     "output_type": "stream",
     "text": [
      "/home/ec2-user/anaconda3/envs/python3/lib/python3.10/site-packages/sklearn/preprocessing/_encoders.py:975: FutureWarning: `sparse` was renamed to `sparse_output` in version 1.2 and will be removed in 1.4. `sparse_output` is ignored unless you leave `sparse` to its default value.\n",
      "  warnings.warn(\n"
     ]
    },
    {
     "data": {
      "text/html": [
       "<style>#sk-container-id-9 {color: black;}#sk-container-id-9 pre{padding: 0;}#sk-container-id-9 div.sk-toggleable {background-color: white;}#sk-container-id-9 label.sk-toggleable__label {cursor: pointer;display: block;width: 100%;margin-bottom: 0;padding: 0.3em;box-sizing: border-box;text-align: center;}#sk-container-id-9 label.sk-toggleable__label-arrow:before {content: \"▸\";float: left;margin-right: 0.25em;color: #696969;}#sk-container-id-9 label.sk-toggleable__label-arrow:hover:before {color: black;}#sk-container-id-9 div.sk-estimator:hover label.sk-toggleable__label-arrow:before {color: black;}#sk-container-id-9 div.sk-toggleable__content {max-height: 0;max-width: 0;overflow: hidden;text-align: left;background-color: #f0f8ff;}#sk-container-id-9 div.sk-toggleable__content pre {margin: 0.2em;color: black;border-radius: 0.25em;background-color: #f0f8ff;}#sk-container-id-9 input.sk-toggleable__control:checked~div.sk-toggleable__content {max-height: 200px;max-width: 100%;overflow: auto;}#sk-container-id-9 input.sk-toggleable__control:checked~label.sk-toggleable__label-arrow:before {content: \"▾\";}#sk-container-id-9 div.sk-estimator input.sk-toggleable__control:checked~label.sk-toggleable__label {background-color: #d4ebff;}#sk-container-id-9 div.sk-label input.sk-toggleable__control:checked~label.sk-toggleable__label {background-color: #d4ebff;}#sk-container-id-9 input.sk-hidden--visually {border: 0;clip: rect(1px 1px 1px 1px);clip: rect(1px, 1px, 1px, 1px);height: 1px;margin: -1px;overflow: hidden;padding: 0;position: absolute;width: 1px;}#sk-container-id-9 div.sk-estimator {font-family: monospace;background-color: #f0f8ff;border: 1px dotted black;border-radius: 0.25em;box-sizing: border-box;margin-bottom: 0.5em;}#sk-container-id-9 div.sk-estimator:hover {background-color: #d4ebff;}#sk-container-id-9 div.sk-parallel-item::after {content: \"\";width: 100%;border-bottom: 1px solid gray;flex-grow: 1;}#sk-container-id-9 div.sk-label:hover label.sk-toggleable__label {background-color: #d4ebff;}#sk-container-id-9 div.sk-serial::before {content: \"\";position: absolute;border-left: 1px solid gray;box-sizing: border-box;top: 0;bottom: 0;left: 50%;z-index: 0;}#sk-container-id-9 div.sk-serial {display: flex;flex-direction: column;align-items: center;background-color: white;padding-right: 0.2em;padding-left: 0.2em;position: relative;}#sk-container-id-9 div.sk-item {position: relative;z-index: 1;}#sk-container-id-9 div.sk-parallel {display: flex;align-items: stretch;justify-content: center;background-color: white;position: relative;}#sk-container-id-9 div.sk-item::before, #sk-container-id-9 div.sk-parallel-item::before {content: \"\";position: absolute;border-left: 1px solid gray;box-sizing: border-box;top: 0;bottom: 0;left: 50%;z-index: -1;}#sk-container-id-9 div.sk-parallel-item {display: flex;flex-direction: column;z-index: 1;position: relative;background-color: white;}#sk-container-id-9 div.sk-parallel-item:first-child::after {align-self: flex-end;width: 50%;}#sk-container-id-9 div.sk-parallel-item:last-child::after {align-self: flex-start;width: 50%;}#sk-container-id-9 div.sk-parallel-item:only-child::after {width: 0;}#sk-container-id-9 div.sk-dashed-wrapped {border: 1px dashed gray;margin: 0 0.4em 0.5em 0.4em;box-sizing: border-box;padding-bottom: 0.4em;background-color: white;}#sk-container-id-9 div.sk-label label {font-family: monospace;font-weight: bold;display: inline-block;line-height: 1.2em;}#sk-container-id-9 div.sk-label-container {text-align: center;}#sk-container-id-9 div.sk-container {/* jupyter's `normalize.less` sets `[hidden] { display: none; }` but bootstrap.min.css set `[hidden] { display: none !important; }` so we also need the `!important` here to be able to override the default hidden behavior on the sphinx rendered scikit-learn.org. See: https://github.com/scikit-learn/scikit-learn/issues/21755 */display: inline-block !important;position: relative;}#sk-container-id-9 div.sk-text-repr-fallback {display: none;}</style><div id=\"sk-container-id-9\" class=\"sk-top-container\"><div class=\"sk-text-repr-fallback\"><pre>ColumnTransformer(transformers=[(&#x27;minmaxscaler&#x27;, MinMaxScaler(),\n",
       "                                 [4, 7, 8, 9, 10, 11, 12, 13, 14, 15, 16, 17,\n",
       "                                  18, 19, 20, 21, 22, 23, 24, 25, 26, 27, 28,\n",
       "                                  29, 30, 31, 32, 33, 34, 35, ...]),\n",
       "                                (&#x27;onehotencoder&#x27;, OneHotEncoder(sparse=False),\n",
       "                                 [0, 1, 2, 3, 5, 6])])</pre><b>In a Jupyter environment, please rerun this cell to show the HTML representation or trust the notebook. <br />On GitHub, the HTML representation is unable to render, please try loading this page with nbviewer.org.</b></div><div class=\"sk-container\" hidden><div class=\"sk-item sk-dashed-wrapped\"><div class=\"sk-label-container\"><div class=\"sk-label sk-toggleable\"><input class=\"sk-toggleable__control sk-hidden--visually\" id=\"sk-estimator-id-34\" type=\"checkbox\" ><label for=\"sk-estimator-id-34\" class=\"sk-toggleable__label sk-toggleable__label-arrow\">ColumnTransformer</label><div class=\"sk-toggleable__content\"><pre>ColumnTransformer(transformers=[(&#x27;minmaxscaler&#x27;, MinMaxScaler(),\n",
       "                                 [4, 7, 8, 9, 10, 11, 12, 13, 14, 15, 16, 17,\n",
       "                                  18, 19, 20, 21, 22, 23, 24, 25, 26, 27, 28,\n",
       "                                  29, 30, 31, 32, 33, 34, 35, ...]),\n",
       "                                (&#x27;onehotencoder&#x27;, OneHotEncoder(sparse=False),\n",
       "                                 [0, 1, 2, 3, 5, 6])])</pre></div></div></div><div class=\"sk-parallel\"><div class=\"sk-parallel-item\"><div class=\"sk-item\"><div class=\"sk-label-container\"><div class=\"sk-label sk-toggleable\"><input class=\"sk-toggleable__control sk-hidden--visually\" id=\"sk-estimator-id-35\" type=\"checkbox\" ><label for=\"sk-estimator-id-35\" class=\"sk-toggleable__label sk-toggleable__label-arrow\">minmaxscaler</label><div class=\"sk-toggleable__content\"><pre>[4, 7, 8, 9, 10, 11, 12, 13, 14, 15, 16, 17, 18, 19, 20, 21, 22, 23, 24, 25, 26, 27, 28, 29, 30, 31, 32, 33, 34, 35, 36, 37, 38, 39, 40, 41, 42, 43, 44, 45, 46, 47, 48, 49, 50, 51, 52, 53, 54]</pre></div></div></div><div class=\"sk-serial\"><div class=\"sk-item\"><div class=\"sk-estimator sk-toggleable\"><input class=\"sk-toggleable__control sk-hidden--visually\" id=\"sk-estimator-id-36\" type=\"checkbox\" ><label for=\"sk-estimator-id-36\" class=\"sk-toggleable__label sk-toggleable__label-arrow\">MinMaxScaler</label><div class=\"sk-toggleable__content\"><pre>MinMaxScaler()</pre></div></div></div></div></div></div><div class=\"sk-parallel-item\"><div class=\"sk-item\"><div class=\"sk-label-container\"><div class=\"sk-label sk-toggleable\"><input class=\"sk-toggleable__control sk-hidden--visually\" id=\"sk-estimator-id-37\" type=\"checkbox\" ><label for=\"sk-estimator-id-37\" class=\"sk-toggleable__label sk-toggleable__label-arrow\">onehotencoder</label><div class=\"sk-toggleable__content\"><pre>[0, 1, 2, 3, 5, 6]</pre></div></div></div><div class=\"sk-serial\"><div class=\"sk-item\"><div class=\"sk-estimator sk-toggleable\"><input class=\"sk-toggleable__control sk-hidden--visually\" id=\"sk-estimator-id-38\" type=\"checkbox\" ><label for=\"sk-estimator-id-38\" class=\"sk-toggleable__label sk-toggleable__label-arrow\">OneHotEncoder</label><div class=\"sk-toggleable__content\"><pre>OneHotEncoder(sparse=False)</pre></div></div></div></div></div></div></div></div></div></div>"
      ],
      "text/plain": [
       "ColumnTransformer(transformers=[('minmaxscaler', MinMaxScaler(),\n",
       "                                 [4, 7, 8, 9, 10, 11, 12, 13, 14, 15, 16, 17,\n",
       "                                  18, 19, 20, 21, 22, 23, 24, 25, 26, 27, 28,\n",
       "                                  29, 30, 31, 32, 33, 34, 35, ...]),\n",
       "                                ('onehotencoder', OneHotEncoder(sparse=False),\n",
       "                                 [0, 1, 2, 3, 5, 6])])"
      ]
     },
     "execution_count": 53,
     "metadata": {},
     "output_type": "execute_result"
    }
   ],
   "source": [
    "preprocess.fit(X_train)"
   ]
  },
  {
   "cell_type": "code",
   "execution_count": 54,
   "id": "c151279d-1be4-4284-bd5a-21c5c5461eb2",
   "metadata": {
    "tags": []
   },
   "outputs": [],
   "source": [
    "# Apply preprocessing pipeline to train and test data\n",
    "X_train_preprocessed = preprocess.transform(X_train)\n",
    "X_test_preprocessed = preprocess.transform(X_test)"
   ]
  },
  {
   "cell_type": "markdown",
   "id": "a1e833bc-92a2-41c1-881f-4a2b7d88c198",
   "metadata": {},
   "source": [
    "## Define SMOTE object and resample train data to address class imbalance"
   ]
  },
  {
   "cell_type": "code",
   "execution_count": 55,
   "id": "a67cbd9a-af94-4fc1-84c7-6b4285e9be02",
   "metadata": {
    "tags": []
   },
   "outputs": [],
   "source": [
    "# Define SMOTE object\n",
    "smote = SMOTE(sampling_strategy='auto', random_state=random_state)"
   ]
  },
  {
   "cell_type": "code",
   "execution_count": 58,
   "id": "0370981f-dc3e-4371-b6f6-38ffa1fa3864",
   "metadata": {
    "tags": []
   },
   "outputs": [],
   "source": [
    "# Fit SMOTE on preprocessed train data\n",
    "X_train_resampled, y_train_resampled = smote.fit_resample(X_train_preprocessed, y_train)"
   ]
  },
  {
   "cell_type": "markdown",
   "id": "39f5cfbb-f289-4aa8-b378-e591ee8ed415",
   "metadata": {},
   "source": [
    "## Save resampled train and test data to parquet files"
   ]
  },
  {
   "cell_type": "code",
   "execution_count": 60,
   "id": "4d7b1232-ffef-4046-a8a1-8c7f6e2f2e8c",
   "metadata": {
    "tags": []
   },
   "outputs": [],
   "source": [
    "pd.DataFrame(X_train_resampled).to_parquet(\"X_train_resampled.parquet\",index=False)\n",
    "pd.DataFrame(y_train_resampled).to_parquet(\"y_train_resampled.parquet\",index=False)\n",
    "pd.DataFrame(X_test_preprocessed).to_parquet(\"X_test_preprocessed.parquet\",index=False)\n",
    "pd.DataFrame(y_test).to_parquet(\"y_test.parquet\",index=False)"
   ]
  },
  {
   "cell_type": "markdown",
   "id": "0cffd8de-593f-4373-99cb-dc4a0e3f2425",
   "metadata": {},
   "source": [
    "# Define logistic regression model and fit on preprocessed train data"
   ]
  },
  {
   "cell_type": "code",
   "execution_count": 62,
   "id": "9be9d40b-95ca-4d5d-8489-c448b6a0ae25",
   "metadata": {},
   "outputs": [
    {
     "name": "stderr",
     "output_type": "stream",
     "text": [
      "/home/ec2-user/anaconda3/envs/python3/lib/python3.10/site-packages/sklearn/linear_model/_logistic.py:460: ConvergenceWarning: lbfgs failed to converge (status=1):\n",
      "STOP: TOTAL NO. of ITERATIONS REACHED LIMIT.\n",
      "\n",
      "Increase the number of iterations (max_iter) or scale the data as shown in:\n",
      "    https://scikit-learn.org/stable/modules/preprocessing.html\n",
      "Please also refer to the documentation for alternative solver options:\n",
      "    https://scikit-learn.org/stable/modules/linear_model.html#logistic-regression\n",
      "  n_iter_i = _check_optimize_result(\n"
     ]
    },
    {
     "data": {
      "text/html": [
       "<style>#sk-container-id-10 {color: black;}#sk-container-id-10 pre{padding: 0;}#sk-container-id-10 div.sk-toggleable {background-color: white;}#sk-container-id-10 label.sk-toggleable__label {cursor: pointer;display: block;width: 100%;margin-bottom: 0;padding: 0.3em;box-sizing: border-box;text-align: center;}#sk-container-id-10 label.sk-toggleable__label-arrow:before {content: \"▸\";float: left;margin-right: 0.25em;color: #696969;}#sk-container-id-10 label.sk-toggleable__label-arrow:hover:before {color: black;}#sk-container-id-10 div.sk-estimator:hover label.sk-toggleable__label-arrow:before {color: black;}#sk-container-id-10 div.sk-toggleable__content {max-height: 0;max-width: 0;overflow: hidden;text-align: left;background-color: #f0f8ff;}#sk-container-id-10 div.sk-toggleable__content pre {margin: 0.2em;color: black;border-radius: 0.25em;background-color: #f0f8ff;}#sk-container-id-10 input.sk-toggleable__control:checked~div.sk-toggleable__content {max-height: 200px;max-width: 100%;overflow: auto;}#sk-container-id-10 input.sk-toggleable__control:checked~label.sk-toggleable__label-arrow:before {content: \"▾\";}#sk-container-id-10 div.sk-estimator input.sk-toggleable__control:checked~label.sk-toggleable__label {background-color: #d4ebff;}#sk-container-id-10 div.sk-label input.sk-toggleable__control:checked~label.sk-toggleable__label {background-color: #d4ebff;}#sk-container-id-10 input.sk-hidden--visually {border: 0;clip: rect(1px 1px 1px 1px);clip: rect(1px, 1px, 1px, 1px);height: 1px;margin: -1px;overflow: hidden;padding: 0;position: absolute;width: 1px;}#sk-container-id-10 div.sk-estimator {font-family: monospace;background-color: #f0f8ff;border: 1px dotted black;border-radius: 0.25em;box-sizing: border-box;margin-bottom: 0.5em;}#sk-container-id-10 div.sk-estimator:hover {background-color: #d4ebff;}#sk-container-id-10 div.sk-parallel-item::after {content: \"\";width: 100%;border-bottom: 1px solid gray;flex-grow: 1;}#sk-container-id-10 div.sk-label:hover label.sk-toggleable__label {background-color: #d4ebff;}#sk-container-id-10 div.sk-serial::before {content: \"\";position: absolute;border-left: 1px solid gray;box-sizing: border-box;top: 0;bottom: 0;left: 50%;z-index: 0;}#sk-container-id-10 div.sk-serial {display: flex;flex-direction: column;align-items: center;background-color: white;padding-right: 0.2em;padding-left: 0.2em;position: relative;}#sk-container-id-10 div.sk-item {position: relative;z-index: 1;}#sk-container-id-10 div.sk-parallel {display: flex;align-items: stretch;justify-content: center;background-color: white;position: relative;}#sk-container-id-10 div.sk-item::before, #sk-container-id-10 div.sk-parallel-item::before {content: \"\";position: absolute;border-left: 1px solid gray;box-sizing: border-box;top: 0;bottom: 0;left: 50%;z-index: -1;}#sk-container-id-10 div.sk-parallel-item {display: flex;flex-direction: column;z-index: 1;position: relative;background-color: white;}#sk-container-id-10 div.sk-parallel-item:first-child::after {align-self: flex-end;width: 50%;}#sk-container-id-10 div.sk-parallel-item:last-child::after {align-self: flex-start;width: 50%;}#sk-container-id-10 div.sk-parallel-item:only-child::after {width: 0;}#sk-container-id-10 div.sk-dashed-wrapped {border: 1px dashed gray;margin: 0 0.4em 0.5em 0.4em;box-sizing: border-box;padding-bottom: 0.4em;background-color: white;}#sk-container-id-10 div.sk-label label {font-family: monospace;font-weight: bold;display: inline-block;line-height: 1.2em;}#sk-container-id-10 div.sk-label-container {text-align: center;}#sk-container-id-10 div.sk-container {/* jupyter's `normalize.less` sets `[hidden] { display: none; }` but bootstrap.min.css set `[hidden] { display: none !important; }` so we also need the `!important` here to be able to override the default hidden behavior on the sphinx rendered scikit-learn.org. See: https://github.com/scikit-learn/scikit-learn/issues/21755 */display: inline-block !important;position: relative;}#sk-container-id-10 div.sk-text-repr-fallback {display: none;}</style><div id=\"sk-container-id-10\" class=\"sk-top-container\"><div class=\"sk-text-repr-fallback\"><pre>LogisticRegression(random_state=10)</pre><b>In a Jupyter environment, please rerun this cell to show the HTML representation or trust the notebook. <br />On GitHub, the HTML representation is unable to render, please try loading this page with nbviewer.org.</b></div><div class=\"sk-container\" hidden><div class=\"sk-item\"><div class=\"sk-estimator sk-toggleable\"><input class=\"sk-toggleable__control sk-hidden--visually\" id=\"sk-estimator-id-39\" type=\"checkbox\" checked><label for=\"sk-estimator-id-39\" class=\"sk-toggleable__label sk-toggleable__label-arrow\">LogisticRegression</label><div class=\"sk-toggleable__content\"><pre>LogisticRegression(random_state=10)</pre></div></div></div></div></div>"
      ],
      "text/plain": [
       "LogisticRegression(random_state=10)"
      ]
     },
     "execution_count": 62,
     "metadata": {},
     "output_type": "execute_result"
    }
   ],
   "source": [
    "lr = LogisticRegression(random_state=random_state)\n",
    "lr.fit(X_train_preprocessed, y_train)"
   ]
  },
  {
   "cell_type": "code",
   "execution_count": null,
   "id": "029a7aa3-4e58-4b12-af04-19ce1fa6b76d",
   "metadata": {},
   "outputs": [],
   "source": []
  },
  {
   "cell_type": "markdown",
   "id": "8183ea0d-1010-4c14-a592-5225417f1867",
   "metadata": {},
   "source": [
    "## Make predictions on test and resampled train data and print classification reports"
   ]
  },
  {
   "cell_type": "code",
   "execution_count": 70,
   "id": "138c0270-5ea8-4ac2-a93d-16f1315a47ee",
   "metadata": {
    "tags": []
   },
   "outputs": [
    {
     "name": "stdout",
     "output_type": "stream",
     "text": [
      "First 10 Predictions:   [0 0 1 1 1 1 1 0 1 1]\n",
      "First 10 Actual labels: [0, 0, 1, 1, 1, 1, 1, 0, 1, 1]\n"
     ]
    }
   ],
   "source": [
    "predictions_test = lr.predict(X_test_preprocessed)\n",
    "print(f\"First 10 Predictions:   {predictions_test[:10]}\")\n",
    "print(f\"First 10 Actual labels: {y_test[:10].tolist()}\")"
   ]
  },
  {
   "cell_type": "code",
   "execution_count": 71,
   "id": "671f970b-4b97-4ce3-aee5-789b834079e3",
   "metadata": {
    "tags": []
   },
   "outputs": [
    {
     "name": "stdout",
     "output_type": "stream",
     "text": [
      "First 10 Predictions:   [1 0 1 0 0 1 1 1 0 1]\n",
      "First 10 Actual labels: [1, 0, 1, 1, 0, 1, 1, 1, 0, 1]\n"
     ]
    }
   ],
   "source": [
    "predictions_train = lr.predict(X_train_resampled)\n",
    "print(f\"First 10 Predictions:   {predictions_train[:10]}\")\n",
    "print(f\"First 10 Actual labels: {y_train_resampled[:10].tolist()}\")"
   ]
  },
  {
   "cell_type": "code",
   "execution_count": 72,
   "id": "5f8f9453-1ddc-4f94-87d1-ac211d0af590",
   "metadata": {
    "tags": []
   },
   "outputs": [
    {
     "name": "stdout",
     "output_type": "stream",
     "text": [
      "              precision    recall  f1-score   support\n",
      "\n",
      "           0       0.95      0.86      0.90    183129\n",
      "           1       0.93      0.98      0.95    344240\n",
      "\n",
      "    accuracy                           0.94    527369\n",
      "   macro avg       0.94      0.92      0.93    527369\n",
      "weighted avg       0.94      0.94      0.94    527369\n"
     ]
    }
   ],
   "source": [
    "print(classification_report(y_test, predictions_test))\n"
   ]
  },
  {
   "cell_type": "code",
   "execution_count": 74,
   "id": "c7bbe66e-9394-4aca-aba4-b5af7d094e54",
   "metadata": {
    "tags": []
   },
   "outputs": [
    {
     "name": "stdout",
     "output_type": "stream",
     "text": [
      "              precision    recall  f1-score   support\n",
      "\n",
      "           0       0.97      0.86      0.91    803226\n",
      "           1       0.87      0.98      0.92    803226\n",
      "\n",
      "    accuracy                           0.92   1606452\n",
      "   macro avg       0.92      0.92      0.92   1606452\n",
      "weighted avg       0.92      0.92      0.92   1606452\n"
     ]
    }
   ],
   "source": [
    "print(classification_report(y_train_resampled, predictions_train))\n"
   ]
  },
  {
   "cell_type": "code",
   "execution_count": 76,
   "id": "8fb7cfec-fd12-414c-81d7-e8e1d47b0b72",
   "metadata": {
    "tags": []
   },
   "outputs": [
    {
     "name": "stdout",
     "output_type": "stream",
     "text": [
      "[[156992  26137]\n",
      " [  7453 336787]]\n"
     ]
    }
   ],
   "source": [
    "cm = confusion_matrix(y_test, predictions_test)\n",
    "print(cm)"
   ]
  },
  {
   "cell_type": "code",
   "execution_count": 75,
   "id": "c344c2c9-eb3e-4675-bee8-4b39db8981cc",
   "metadata": {
    "tags": []
   },
   "outputs": [
    {
     "data": {
      "text/plain": [
       "['./Models/Logistic_regression.sav']"
      ]
     },
     "execution_count": 75,
     "metadata": {},
     "output_type": "execute_result"
    }
   ],
   "source": [
    "import joblib\n",
    "filename = './Models/Logistic_regression.sav'\n",
    "joblib.dump(lr, filename)"
   ]
  },
  {
   "cell_type": "code",
   "execution_count": null,
   "id": "e04f3fd3-b6d4-49af-b1f0-d3cff0cc3be9",
   "metadata": {},
   "outputs": [],
   "source": []
  }
 ],
 "metadata": {
  "kernelspec": {
   "display_name": "Python 3 (ipykernel)",
   "language": "python",
   "name": "python3"
  },
  "language_info": {
   "codemirror_mode": {
    "name": "ipython",
    "version": 3
   },
   "file_extension": ".py",
   "mimetype": "text/x-python",
   "name": "python",
   "nbconvert_exporter": "python",
   "pygments_lexer": "ipython3",
   "version": "3.10.9"
  }
 },
 "nbformat": 4,
 "nbformat_minor": 5
}
