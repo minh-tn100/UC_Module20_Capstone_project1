{
 "cells": [
  {
   "cell_type": "markdown",
   "id": "447c2fb9-df5b-4bce-b6fe-d4447973c164",
   "metadata": {},
   "source": [
    "# Gradient Boosting"
   ]
  },
  {
   "cell_type": "code",
   "execution_count": 1,
   "id": "a0483c05-ecf4-4646-af38-7238555a2f26",
   "metadata": {
    "tags": []
   },
   "outputs": [
    {
     "name": "stderr",
     "output_type": "stream",
     "text": [
      "/home/ec2-user/anaconda3/envs/python3/lib/python3.10/site-packages/pandas/core/computation/expressions.py:21: UserWarning: Pandas requires version '2.8.0' or newer of 'numexpr' (version '2.7.3' currently installed).\n",
      "  from pandas.core.computation.check import NUMEXPR_INSTALLED\n"
     ]
    }
   ],
   "source": [
    "# !pip install imblearn\n",
    "\n",
    "import os\n",
    "import pandas as pd\n",
    "import numpy as np\n",
    "\n",
    "# store elements as dictionary keys and their counts as dictionary values\n",
    "from collections import Counter\n",
    "\n",
    "# scikit-learn\n",
    "from sklearn.model_selection import train_test_split\n",
    "\n",
    "from sklearn.preprocessing import MinMaxScaler, OneHotEncoder, LabelEncoder\n",
    "from sklearn.compose import ColumnTransformer, make_column_transformer\n",
    "from sklearn.pipeline import make_pipeline\n",
    "\n",
    "# Classification metrics\n",
    "from sklearn.metrics import confusion_matrix, classification_report\n",
    "\n",
    "# Function for creating model pipelines - sklearn\n",
    "from sklearn.pipeline import make_pipeline\n",
    "\n",
    "# Function for creating model pipelines - imblearn\n",
    "from imblearn.pipeline import make_pipeline as imbl_pipe\n",
    "\n",
    "# Over-sampling using SMOTE\n",
    "from imblearn.over_sampling import SMOTE\n",
    "# Import classifier\n",
    "from sklearn.linear_model import LogisticRegression \n",
    "import datetime as dt\n",
    "import pandas as pd\n",
    "import seaborn as sns\n",
    "import matplotlib.pyplot as plt\n",
    "from sklearn.model_selection import train_test_split\n",
    "from sklearn.preprocessing import MinMaxScaler\n",
    "pd.set_option('display.max_columns', None)\n",
    "pd.set_option('display.max_rows', None)\n",
    "from sklearn.model_selection import GridSearchCV\n",
    "from sklearn.neighbors import KNeighborsClassifier\n",
    "from sklearn.ensemble import GradientBoostingClassifier\n"
   ]
  },
  {
   "cell_type": "markdown",
   "id": "b8eccc0c-fe32-43b1-9bc4-7bc04e0fd620",
   "metadata": {},
   "source": [
    "## Read the data from a parquet file"
   ]
  },
  {
   "cell_type": "code",
   "execution_count": null,
   "id": "f3e2964c-2b9a-48de-bb60-f2dc3b3fdb37",
   "metadata": {
    "tags": []
   },
   "outputs": [],
   "source": [
    "df = pd.read_parquet('df_age_18.parquet')"
   ]
  },
  {
   "cell_type": "markdown",
   "id": "9cb95c1b-e297-4ee9-8d3a-3378dbd5bd35",
   "metadata": {},
   "source": [
    "## Display counts and percentages of the target variable"
   ]
  },
  {
   "cell_type": "code",
   "execution_count": null,
   "id": "6d734229-ca20-4154-b8d5-16728d599a65",
   "metadata": {
    "tags": []
   },
   "outputs": [],
   "source": [
    "# Display counts and percentages\n",
    "value_counts = df['Y'].value_counts()\n",
    "percentages = df['Y'].value_counts(normalize=True) * 100\n",
    "\n",
    "result_df = pd.DataFrame({'Count': value_counts, 'Percentage': percentages})\n",
    "print(result_df)"
   ]
  },
  {
   "cell_type": "markdown",
   "id": "a736e74e-afdd-4212-8bf3-c523ab92dc54",
   "metadata": {},
   "source": [
    "## Drop unnecessary columns from the dataframe\n"
   ]
  },
  {
   "cell_type": "code",
   "execution_count": null,
   "id": "b0e1a0ca-d753-4e6a-b138-b49e0d2f8863",
   "metadata": {
    "tags": []
   },
   "outputs": [],
   "source": [
    "df.drop(columns=['#','EBANK_FIRST_OPEN_DATE','CIF_OPEN_DATE',\n",
    " 'MB2_FIRST_OPEN_DATE',\n",
    " 'SYM_RUN_DATE'],inplace=True)"
   ]
  },
  {
   "cell_type": "markdown",
   "id": "181cb1e5-dc45-48ef-9cba-0f6cfae57ac5",
   "metadata": {},
   "source": [
    "## Check for missing values and fill them with 0\n"
   ]
  },
  {
   "cell_type": "code",
   "execution_count": null,
   "id": "0c9a16e6-e038-4ace-8d41-7d3390ae308b",
   "metadata": {
    "tags": []
   },
   "outputs": [],
   "source": [
    "df.isnull().sum()"
   ]
  },
  {
   "cell_type": "code",
   "execution_count": null,
   "id": "9e142957-60dd-4cb0-befe-3dfde1379d12",
   "metadata": {
    "tags": []
   },
   "outputs": [],
   "source": [
    "df.fillna(0,inplace=True)"
   ]
  },
  {
   "cell_type": "code",
   "execution_count": null,
   "id": "5c1f9ba4-f068-49c6-bca8-89e64b19f530",
   "metadata": {
    "tags": []
   },
   "outputs": [],
   "source": [
    "df.isnull().sum()"
   ]
  },
  {
   "cell_type": "markdown",
   "id": "f884f2d7-796f-4244-af86-104f867e3f8b",
   "metadata": {},
   "source": [
    "## Select only numerical features for correlation analysis\n"
   ]
  },
  {
   "cell_type": "code",
   "execution_count": null,
   "id": "c56942d4-e5ce-4a6e-9a06-6347e1ffc0e7",
   "metadata": {
    "tags": []
   },
   "outputs": [],
   "source": [
    "df_corr = df[df.select_dtypes(include='number').columns.tolist()]"
   ]
  },
  {
   "cell_type": "markdown",
   "id": "cf033790-1ba3-4870-8106-82629e963724",
   "metadata": {},
   "source": [
    "## Function to select highly correlated features\n"
   ]
  },
  {
   "cell_type": "code",
   "execution_count": null,
   "id": "447bdf37-338a-4a71-9c2a-a48fa7ebfbf8",
   "metadata": {
    "tags": []
   },
   "outputs": [],
   "source": [
    "# with the following function we can select highly correlated features\n",
    "# it will remove the first feature that is correlated with anything other feature\n",
    "\n",
    "def correlation(dataset, threshold):\n",
    "    col_corr = set()  # Set of all the names of correlated columns\n",
    "    corr_matrix = dataset.corr()\n",
    "    for i in range(len(corr_matrix.columns)):\n",
    "        for j in range(i):\n",
    "            if abs(corr_matrix.iloc[i, j]) > threshold: # we are interested in absolute coeff value\n",
    "                colname = corr_matrix.columns[i]  # getting the name of column\n",
    "                col_corr.add(colname)\n",
    "    return col_corr"
   ]
  },
  {
   "cell_type": "markdown",
   "id": "2573ffa8-fb5d-4a9e-9cbb-dacc6766d9bb",
   "metadata": {},
   "source": [
    "## Find highly correlated features and drop them from the dataframe\n"
   ]
  },
  {
   "cell_type": "code",
   "execution_count": null,
   "id": "d3278edc-d503-4c2c-9d10-fcf39c1203cb",
   "metadata": {
    "tags": []
   },
   "outputs": [],
   "source": [
    "corr_features = correlation(df_corr, 0.7)\n",
    "len(set(corr_features))"
   ]
  },
  {
   "cell_type": "code",
   "execution_count": null,
   "id": "d690cbfe-44ba-4e92-9f1c-e8fd9e6e2f31",
   "metadata": {
    "tags": []
   },
   "outputs": [],
   "source": [
    "corr_features"
   ]
  },
  {
   "cell_type": "code",
   "execution_count": null,
   "id": "79f07234-e485-4ab6-b1ca-d8f05117cda7",
   "metadata": {
    "tags": []
   },
   "outputs": [],
   "source": [
    "df_filtered = df.drop(corr_features,axis=1)"
   ]
  },
  {
   "cell_type": "code",
   "execution_count": null,
   "id": "378f65a8-b98e-4bde-8810-df7fe6b086c1",
   "metadata": {
    "tags": []
   },
   "outputs": [],
   "source": [
    "df_filtered.to_parquet('df_filtered_corr.parquet')"
   ]
  },
  {
   "cell_type": "code",
   "execution_count": null,
   "id": "b28bc97b-0536-4467-908f-1f19d2b7cb38",
   "metadata": {},
   "outputs": [],
   "source": [
    "df_filtered = pd.read_parquet('df_filtered_corr.parquet')"
   ]
  },
  {
   "cell_type": "markdown",
   "id": "926fca5e-eb6c-4d8c-af03-3e12829fa096",
   "metadata": {},
   "source": [
    "## Separate the dataframe into input features (X) and target variable (y)\n"
   ]
  },
  {
   "cell_type": "code",
   "execution_count": null,
   "id": "1bcc6549-3b61-4bf2-817a-9312c21995f4",
   "metadata": {
    "tags": []
   },
   "outputs": [],
   "source": [
    "#Separate dataframe into separate object\n",
    "\n",
    "# Object for target variable\n",
    "y = df_filtered.Y\n",
    "\n",
    "# object for input features\n",
    "X = df_filtered.drop(['CLIENT_NO','Y'], axis=1)\n",
    "\n",
    "# display shapes of X and y\n",
    "print(X.shape, y.shape)"
   ]
  },
  {
   "cell_type": "code",
   "execution_count": null,
   "id": "655e137f-77fb-4a18-9dd6-205b5685c755",
   "metadata": {
    "tags": []
   },
   "outputs": [],
   "source": [
    "# List numerical features\n",
    "num_columns = X.select_dtypes(include='number').columns.tolist()\n",
    "num_columns"
   ]
  },
  {
   "cell_type": "code",
   "execution_count": null,
   "id": "aaeb39c6-3f79-4228-abf9-0e581b38fb42",
   "metadata": {
    "tags": []
   },
   "outputs": [],
   "source": [
    "# List categorical features\n",
    "cat_columns = X.select_dtypes(include='object').columns.tolist()\n",
    "cat_columns"
   ]
  },
  {
   "cell_type": "markdown",
   "id": "2b134cfe-dcbb-4d37-a019-53b06c131575",
   "metadata": {},
   "source": [
    "## Split the data into train and test sets\n"
   ]
  },
  {
   "cell_type": "code",
   "execution_count": null,
   "id": "71452417-fbde-4af7-994c-db32d458138d",
   "metadata": {
    "tags": []
   },
   "outputs": [],
   "source": [
    "random_state = 10\n",
    "\n",
    "# Split X and y into train and test sets\n",
    "X_train, X_test, y_train, y_test = train_test_split(X, y,\n",
    "                                                    test_size=0.3,\n",
    "                                                    random_state=random_state,\n",
    "                                                    stratify=df_filtered.Y)\n",
    "\n",
    "# Print number of observations in X_train, X_test, y_train, and y_test\n",
    "print(len(X_train), len(X_test), len(y_train), len(y_test))"
   ]
  },
  {
   "cell_type": "code",
   "execution_count": null,
   "id": "0e4d48be-5a51-49bc-ba99-c90f3d17cac1",
   "metadata": {
    "tags": []
   },
   "outputs": [],
   "source": [
    "X_train.info()"
   ]
  },
  {
   "cell_type": "markdown",
   "id": "0cbb2545-46b0-4274-810a-c30672ea18b0",
   "metadata": {},
   "source": [
    "## Get the numerical and categorical columns for preprocessing\n"
   ]
  },
  {
   "cell_type": "code",
   "execution_count": null,
   "id": "0f11393b-a85f-4479-a45f-cbf36e513901",
   "metadata": {
    "tags": []
   },
   "outputs": [],
   "source": [
    "num_features = []\n",
    "\n",
    "for i in num_columns:\n",
    "    location = X.columns.get_loc(i)\n",
    "    num_features.append(location)\n",
    "print(num_features)"
   ]
  },
  {
   "cell_type": "code",
   "execution_count": null,
   "id": "8938ca50-30a7-4e2c-a37c-ca13a89e88b2",
   "metadata": {
    "tags": []
   },
   "outputs": [],
   "source": [
    "cat_features = []\n",
    "\n",
    "for i in cat_columns:\n",
    "    location = X.columns.get_loc(i)\n",
    "    cat_features.append(location)\n",
    "print(cat_features)"
   ]
  },
  {
   "cell_type": "markdown",
   "id": "c5ae50f9-b037-42bd-893a-cb26ec87132f",
   "metadata": {},
   "source": [
    "## Define the column transformer for preprocessing\n"
   ]
  },
  {
   "cell_type": "code",
   "execution_count": null,
   "id": "810372db-3aca-4d0a-8673-ee7dbf30bb8e",
   "metadata": {
    "tags": []
   },
   "outputs": [],
   "source": [
    "# Define column transformer\n",
    "# Need to be numeric not string to specify columns name \n",
    "preprocess = make_column_transformer(\n",
    "    (MinMaxScaler(), num_features),\n",
    "    (OneHotEncoder(sparse=False), cat_features)\n",
    ")\n",
    "preprocess"
   ]
  },
  {
   "cell_type": "code",
   "execution_count": null,
   "id": "98b3dfbc-7e00-4d5a-9715-4ccd02761d8f",
   "metadata": {
    "tags": []
   },
   "outputs": [],
   "source": [
    "# Fit preprocessing pipeline on train data\n",
    "preprocess.fit(X_train)"
   ]
  },
  {
   "cell_type": "code",
   "execution_count": null,
   "id": "c151279d-1be4-4284-bd5a-21c5c5461eb2",
   "metadata": {
    "tags": []
   },
   "outputs": [],
   "source": [
    "# Apply preprocessing pipeline to train and test data\n",
    "X_train_preprocessed = preprocess.transform(X_train)\n",
    "X_test_preprocessed = preprocess.transform(X_test)"
   ]
  },
  {
   "cell_type": "code",
   "execution_count": null,
   "id": "a67cbd9a-af94-4fc1-84c7-6b4285e9be02",
   "metadata": {
    "tags": []
   },
   "outputs": [],
   "source": [
    "# Define SMOTE object\n",
    "smote = SMOTE(sampling_strategy='auto', random_state=random_state)"
   ]
  },
  {
   "cell_type": "code",
   "execution_count": null,
   "id": "0370981f-dc3e-4371-b6f6-38ffa1fa3864",
   "metadata": {
    "tags": []
   },
   "outputs": [],
   "source": [
    "# Fit SMOTE on preprocessed train data\n",
    "X_train_resampled, y_train_resampled = smote.fit_resample(X_train_preprocessed, y_train)"
   ]
  },
  {
   "cell_type": "code",
   "execution_count": null,
   "id": "db25776d-6958-4c60-87d6-001e014d0150",
   "metadata": {
    "tags": []
   },
   "outputs": [],
   "source": [
    "len(X_train_resampled)"
   ]
  },
  {
   "cell_type": "code",
   "execution_count": null,
   "id": "e848c58c-d9ae-44f3-9a56-71ca7df05991",
   "metadata": {},
   "outputs": [],
   "source": [
    "160645"
   ]
  },
  {
   "cell_type": "code",
   "execution_count": null,
   "id": "a4fcdb80-5b4b-46c4-8c93-5385dd9b00c1",
   "metadata": {
    "tags": []
   },
   "outputs": [],
   "source": [
    "pd.DataFrame(X_train_resampled).to_parquet(\"X_train_resampled.parquet\",index=False)\n",
    "pd.DataFrame(y_train_resampled).to_parquet(\"y_train_resampled.parquet\",index=False)\n",
    "pd.DataFrame(X_test_preprocessed).to_parquet(\"X_test_preprocessed.parquet\",index=False)\n",
    "pd.DataFrame(y_test).to_parquet(\"y_test.parquet\",index=False)"
   ]
  },
  {
   "cell_type": "markdown",
   "id": "b29127e5-8468-4cfa-a86d-e171f2324f9c",
   "metadata": {},
   "source": [
    "## Define the Gradient Boosting classifier and set hyperparameters for grid search\n"
   ]
  },
  {
   "cell_type": "code",
   "execution_count": 2,
   "id": "595631cf-cb91-4d02-a59f-ce855254f5c0",
   "metadata": {
    "tags": []
   },
   "outputs": [],
   "source": [
    "X_train_resampled = pd.read_parquet('X_train_resampled.parquet')\n",
    "y_train_resampled = pd.read_parquet('y_train_resampled.parquet')\n",
    "X_test_preprocessed = pd.read_parquet('X_test_preprocessed.parquet')\n",
    "y_test = pd.read_parquet('y_test.parquet')"
   ]
  },
  {
   "cell_type": "code",
   "execution_count": 3,
   "id": "5323f0ce-3684-45fa-8220-ed778e8757a6",
   "metadata": {
    "tags": []
   },
   "outputs": [],
   "source": [
    "# Define KNN classifier\n",
    "gb = GradientBoostingClassifier(random_state=10)"
   ]
  },
  {
   "cell_type": "markdown",
   "id": "7b546c68-b1fe-493e-aece-020840fd8538",
   "metadata": {},
   "source": [
    "## Fit the model on the resampled train data using grid search cross-validation\n"
   ]
  },
  {
   "cell_type": "code",
   "execution_count": 5,
   "id": "e7c78b68-ca8f-4807-b313-18f90af41ada",
   "metadata": {
    "tags": []
   },
   "outputs": [
    {
     "name": "stdout",
     "output_type": "stream",
     "text": [
      "Fitting 5 folds for each of 4 candidates, totalling 20 fits\n"
     ]
    },
    {
     "name": "stderr",
     "output_type": "stream",
     "text": [
      "/home/ec2-user/anaconda3/envs/python3/lib/python3.10/site-packages/sklearn/ensemble/_gb.py:424: DataConversionWarning: A column-vector y was passed when a 1d array was expected. Please change the shape of y to (n_samples, ), for example using ravel().\n",
      "  y = column_or_1d(y, warn=True)\n"
     ]
    },
    {
     "name": "stdout",
     "output_type": "stream",
     "text": [
      "[CV 1/5] END ....max_depth=4, max_features=sqrt;, score=0.940 total time= 1.9min\n"
     ]
    },
    {
     "name": "stderr",
     "output_type": "stream",
     "text": [
      "/home/ec2-user/anaconda3/envs/python3/lib/python3.10/site-packages/sklearn/ensemble/_gb.py:424: DataConversionWarning: A column-vector y was passed when a 1d array was expected. Please change the shape of y to (n_samples, ), for example using ravel().\n",
      "  y = column_or_1d(y, warn=True)\n"
     ]
    },
    {
     "name": "stdout",
     "output_type": "stream",
     "text": [
      "[CV 2/5] END ....max_depth=4, max_features=sqrt;, score=0.940 total time= 1.6min\n"
     ]
    },
    {
     "name": "stderr",
     "output_type": "stream",
     "text": [
      "/home/ec2-user/anaconda3/envs/python3/lib/python3.10/site-packages/sklearn/ensemble/_gb.py:424: DataConversionWarning: A column-vector y was passed when a 1d array was expected. Please change the shape of y to (n_samples, ), for example using ravel().\n",
      "  y = column_or_1d(y, warn=True)\n"
     ]
    },
    {
     "name": "stdout",
     "output_type": "stream",
     "text": [
      "[CV 3/5] END ....max_depth=4, max_features=sqrt;, score=0.942 total time= 1.6min\n"
     ]
    },
    {
     "name": "stderr",
     "output_type": "stream",
     "text": [
      "/home/ec2-user/anaconda3/envs/python3/lib/python3.10/site-packages/sklearn/ensemble/_gb.py:424: DataConversionWarning: A column-vector y was passed when a 1d array was expected. Please change the shape of y to (n_samples, ), for example using ravel().\n",
      "  y = column_or_1d(y, warn=True)\n"
     ]
    },
    {
     "name": "stdout",
     "output_type": "stream",
     "text": [
      "[CV 4/5] END ....max_depth=4, max_features=sqrt;, score=0.945 total time= 1.6min\n"
     ]
    },
    {
     "name": "stderr",
     "output_type": "stream",
     "text": [
      "/home/ec2-user/anaconda3/envs/python3/lib/python3.10/site-packages/sklearn/ensemble/_gb.py:424: DataConversionWarning: A column-vector y was passed when a 1d array was expected. Please change the shape of y to (n_samples, ), for example using ravel().\n",
      "  y = column_or_1d(y, warn=True)\n"
     ]
    },
    {
     "name": "stdout",
     "output_type": "stream",
     "text": [
      "[CV 5/5] END ....max_depth=4, max_features=sqrt;, score=0.947 total time= 1.9min\n"
     ]
    },
    {
     "name": "stderr",
     "output_type": "stream",
     "text": [
      "/home/ec2-user/anaconda3/envs/python3/lib/python3.10/site-packages/sklearn/ensemble/_gb.py:424: DataConversionWarning: A column-vector y was passed when a 1d array was expected. Please change the shape of y to (n_samples, ), for example using ravel().\n",
      "  y = column_or_1d(y, warn=True)\n"
     ]
    },
    {
     "name": "stdout",
     "output_type": "stream",
     "text": [
      "[CV 1/5] END ....max_depth=4, max_features=log2;, score=0.940 total time= 1.2min\n"
     ]
    },
    {
     "name": "stderr",
     "output_type": "stream",
     "text": [
      "/home/ec2-user/anaconda3/envs/python3/lib/python3.10/site-packages/sklearn/ensemble/_gb.py:424: DataConversionWarning: A column-vector y was passed when a 1d array was expected. Please change the shape of y to (n_samples, ), for example using ravel().\n",
      "  y = column_or_1d(y, warn=True)\n"
     ]
    },
    {
     "name": "stdout",
     "output_type": "stream",
     "text": [
      "[CV 2/5] END ....max_depth=4, max_features=log2;, score=0.939 total time= 1.2min\n"
     ]
    },
    {
     "name": "stderr",
     "output_type": "stream",
     "text": [
      "/home/ec2-user/anaconda3/envs/python3/lib/python3.10/site-packages/sklearn/ensemble/_gb.py:424: DataConversionWarning: A column-vector y was passed when a 1d array was expected. Please change the shape of y to (n_samples, ), for example using ravel().\n",
      "  y = column_or_1d(y, warn=True)\n"
     ]
    },
    {
     "name": "stdout",
     "output_type": "stream",
     "text": [
      "[CV 3/5] END ....max_depth=4, max_features=log2;, score=0.941 total time= 1.5min\n"
     ]
    },
    {
     "name": "stderr",
     "output_type": "stream",
     "text": [
      "/home/ec2-user/anaconda3/envs/python3/lib/python3.10/site-packages/sklearn/ensemble/_gb.py:424: DataConversionWarning: A column-vector y was passed when a 1d array was expected. Please change the shape of y to (n_samples, ), for example using ravel().\n",
      "  y = column_or_1d(y, warn=True)\n"
     ]
    },
    {
     "name": "stdout",
     "output_type": "stream",
     "text": [
      "[CV 4/5] END ....max_depth=4, max_features=log2;, score=0.945 total time= 2.0min\n"
     ]
    },
    {
     "name": "stderr",
     "output_type": "stream",
     "text": [
      "/home/ec2-user/anaconda3/envs/python3/lib/python3.10/site-packages/sklearn/ensemble/_gb.py:424: DataConversionWarning: A column-vector y was passed when a 1d array was expected. Please change the shape of y to (n_samples, ), for example using ravel().\n",
      "  y = column_or_1d(y, warn=True)\n"
     ]
    },
    {
     "name": "stdout",
     "output_type": "stream",
     "text": [
      "[CV 5/5] END ....max_depth=4, max_features=log2;, score=0.946 total time= 1.2min\n"
     ]
    },
    {
     "name": "stderr",
     "output_type": "stream",
     "text": [
      "/home/ec2-user/anaconda3/envs/python3/lib/python3.10/site-packages/sklearn/ensemble/_gb.py:424: DataConversionWarning: A column-vector y was passed when a 1d array was expected. Please change the shape of y to (n_samples, ), for example using ravel().\n",
      "  y = column_or_1d(y, warn=True)\n"
     ]
    },
    {
     "name": "stdout",
     "output_type": "stream",
     "text": [
      "[CV 1/5] END ....max_depth=6, max_features=sqrt;, score=0.941 total time= 2.4min\n"
     ]
    },
    {
     "name": "stderr",
     "output_type": "stream",
     "text": [
      "/home/ec2-user/anaconda3/envs/python3/lib/python3.10/site-packages/sklearn/ensemble/_gb.py:424: DataConversionWarning: A column-vector y was passed when a 1d array was expected. Please change the shape of y to (n_samples, ), for example using ravel().\n",
      "  y = column_or_1d(y, warn=True)\n"
     ]
    },
    {
     "name": "stdout",
     "output_type": "stream",
     "text": [
      "[CV 2/5] END ....max_depth=6, max_features=sqrt;, score=0.941 total time= 2.3min\n"
     ]
    },
    {
     "name": "stderr",
     "output_type": "stream",
     "text": [
      "/home/ec2-user/anaconda3/envs/python3/lib/python3.10/site-packages/sklearn/ensemble/_gb.py:424: DataConversionWarning: A column-vector y was passed when a 1d array was expected. Please change the shape of y to (n_samples, ), for example using ravel().\n",
      "  y = column_or_1d(y, warn=True)\n"
     ]
    },
    {
     "name": "stdout",
     "output_type": "stream",
     "text": [
      "[CV 3/5] END ....max_depth=6, max_features=sqrt;, score=0.944 total time= 2.3min\n"
     ]
    },
    {
     "name": "stderr",
     "output_type": "stream",
     "text": [
      "/home/ec2-user/anaconda3/envs/python3/lib/python3.10/site-packages/sklearn/ensemble/_gb.py:424: DataConversionWarning: A column-vector y was passed when a 1d array was expected. Please change the shape of y to (n_samples, ), for example using ravel().\n",
      "  y = column_or_1d(y, warn=True)\n"
     ]
    },
    {
     "name": "stdout",
     "output_type": "stream",
     "text": [
      "[CV 4/5] END ....max_depth=6, max_features=sqrt;, score=0.950 total time= 2.3min\n"
     ]
    },
    {
     "name": "stderr",
     "output_type": "stream",
     "text": [
      "/home/ec2-user/anaconda3/envs/python3/lib/python3.10/site-packages/sklearn/ensemble/_gb.py:424: DataConversionWarning: A column-vector y was passed when a 1d array was expected. Please change the shape of y to (n_samples, ), for example using ravel().\n",
      "  y = column_or_1d(y, warn=True)\n"
     ]
    },
    {
     "name": "stdout",
     "output_type": "stream",
     "text": [
      "[CV 5/5] END ....max_depth=6, max_features=sqrt;, score=0.950 total time= 2.2min\n"
     ]
    },
    {
     "name": "stderr",
     "output_type": "stream",
     "text": [
      "/home/ec2-user/anaconda3/envs/python3/lib/python3.10/site-packages/sklearn/ensemble/_gb.py:424: DataConversionWarning: A column-vector y was passed when a 1d array was expected. Please change the shape of y to (n_samples, ), for example using ravel().\n",
      "  y = column_or_1d(y, warn=True)\n"
     ]
    },
    {
     "name": "stdout",
     "output_type": "stream",
     "text": [
      "[CV 1/5] END ....max_depth=6, max_features=log2;, score=0.941 total time= 1.8min\n"
     ]
    },
    {
     "name": "stderr",
     "output_type": "stream",
     "text": [
      "/home/ec2-user/anaconda3/envs/python3/lib/python3.10/site-packages/sklearn/ensemble/_gb.py:424: DataConversionWarning: A column-vector y was passed when a 1d array was expected. Please change the shape of y to (n_samples, ), for example using ravel().\n",
      "  y = column_or_1d(y, warn=True)\n"
     ]
    },
    {
     "name": "stdout",
     "output_type": "stream",
     "text": [
      "[CV 2/5] END ....max_depth=6, max_features=log2;, score=0.941 total time= 1.8min\n"
     ]
    },
    {
     "name": "stderr",
     "output_type": "stream",
     "text": [
      "/home/ec2-user/anaconda3/envs/python3/lib/python3.10/site-packages/sklearn/ensemble/_gb.py:424: DataConversionWarning: A column-vector y was passed when a 1d array was expected. Please change the shape of y to (n_samples, ), for example using ravel().\n",
      "  y = column_or_1d(y, warn=True)\n"
     ]
    },
    {
     "name": "stdout",
     "output_type": "stream",
     "text": [
      "[CV 3/5] END ....max_depth=6, max_features=log2;, score=0.943 total time= 1.7min\n"
     ]
    },
    {
     "name": "stderr",
     "output_type": "stream",
     "text": [
      "/home/ec2-user/anaconda3/envs/python3/lib/python3.10/site-packages/sklearn/ensemble/_gb.py:424: DataConversionWarning: A column-vector y was passed when a 1d array was expected. Please change the shape of y to (n_samples, ), for example using ravel().\n",
      "  y = column_or_1d(y, warn=True)\n"
     ]
    },
    {
     "name": "stdout",
     "output_type": "stream",
     "text": [
      "[CV 4/5] END ....max_depth=6, max_features=log2;, score=0.948 total time= 1.7min\n"
     ]
    },
    {
     "name": "stderr",
     "output_type": "stream",
     "text": [
      "/home/ec2-user/anaconda3/envs/python3/lib/python3.10/site-packages/sklearn/ensemble/_gb.py:424: DataConversionWarning: A column-vector y was passed when a 1d array was expected. Please change the shape of y to (n_samples, ), for example using ravel().\n",
      "  y = column_or_1d(y, warn=True)\n"
     ]
    },
    {
     "name": "stdout",
     "output_type": "stream",
     "text": [
      "[CV 5/5] END ....max_depth=6, max_features=log2;, score=0.948 total time= 1.8min\n"
     ]
    },
    {
     "name": "stderr",
     "output_type": "stream",
     "text": [
      "/home/ec2-user/anaconda3/envs/python3/lib/python3.10/site-packages/sklearn/ensemble/_gb.py:424: DataConversionWarning: A column-vector y was passed when a 1d array was expected. Please change the shape of y to (n_samples, ), for example using ravel().\n",
      "  y = column_or_1d(y, warn=True)\n"
     ]
    },
    {
     "data": {
      "text/html": [
       "<style>#sk-container-id-1 {color: black;}#sk-container-id-1 pre{padding: 0;}#sk-container-id-1 div.sk-toggleable {background-color: white;}#sk-container-id-1 label.sk-toggleable__label {cursor: pointer;display: block;width: 100%;margin-bottom: 0;padding: 0.3em;box-sizing: border-box;text-align: center;}#sk-container-id-1 label.sk-toggleable__label-arrow:before {content: \"▸\";float: left;margin-right: 0.25em;color: #696969;}#sk-container-id-1 label.sk-toggleable__label-arrow:hover:before {color: black;}#sk-container-id-1 div.sk-estimator:hover label.sk-toggleable__label-arrow:before {color: black;}#sk-container-id-1 div.sk-toggleable__content {max-height: 0;max-width: 0;overflow: hidden;text-align: left;background-color: #f0f8ff;}#sk-container-id-1 div.sk-toggleable__content pre {margin: 0.2em;color: black;border-radius: 0.25em;background-color: #f0f8ff;}#sk-container-id-1 input.sk-toggleable__control:checked~div.sk-toggleable__content {max-height: 200px;max-width: 100%;overflow: auto;}#sk-container-id-1 input.sk-toggleable__control:checked~label.sk-toggleable__label-arrow:before {content: \"▾\";}#sk-container-id-1 div.sk-estimator input.sk-toggleable__control:checked~label.sk-toggleable__label {background-color: #d4ebff;}#sk-container-id-1 div.sk-label input.sk-toggleable__control:checked~label.sk-toggleable__label {background-color: #d4ebff;}#sk-container-id-1 input.sk-hidden--visually {border: 0;clip: rect(1px 1px 1px 1px);clip: rect(1px, 1px, 1px, 1px);height: 1px;margin: -1px;overflow: hidden;padding: 0;position: absolute;width: 1px;}#sk-container-id-1 div.sk-estimator {font-family: monospace;background-color: #f0f8ff;border: 1px dotted black;border-radius: 0.25em;box-sizing: border-box;margin-bottom: 0.5em;}#sk-container-id-1 div.sk-estimator:hover {background-color: #d4ebff;}#sk-container-id-1 div.sk-parallel-item::after {content: \"\";width: 100%;border-bottom: 1px solid gray;flex-grow: 1;}#sk-container-id-1 div.sk-label:hover label.sk-toggleable__label {background-color: #d4ebff;}#sk-container-id-1 div.sk-serial::before {content: \"\";position: absolute;border-left: 1px solid gray;box-sizing: border-box;top: 0;bottom: 0;left: 50%;z-index: 0;}#sk-container-id-1 div.sk-serial {display: flex;flex-direction: column;align-items: center;background-color: white;padding-right: 0.2em;padding-left: 0.2em;position: relative;}#sk-container-id-1 div.sk-item {position: relative;z-index: 1;}#sk-container-id-1 div.sk-parallel {display: flex;align-items: stretch;justify-content: center;background-color: white;position: relative;}#sk-container-id-1 div.sk-item::before, #sk-container-id-1 div.sk-parallel-item::before {content: \"\";position: absolute;border-left: 1px solid gray;box-sizing: border-box;top: 0;bottom: 0;left: 50%;z-index: -1;}#sk-container-id-1 div.sk-parallel-item {display: flex;flex-direction: column;z-index: 1;position: relative;background-color: white;}#sk-container-id-1 div.sk-parallel-item:first-child::after {align-self: flex-end;width: 50%;}#sk-container-id-1 div.sk-parallel-item:last-child::after {align-self: flex-start;width: 50%;}#sk-container-id-1 div.sk-parallel-item:only-child::after {width: 0;}#sk-container-id-1 div.sk-dashed-wrapped {border: 1px dashed gray;margin: 0 0.4em 0.5em 0.4em;box-sizing: border-box;padding-bottom: 0.4em;background-color: white;}#sk-container-id-1 div.sk-label label {font-family: monospace;font-weight: bold;display: inline-block;line-height: 1.2em;}#sk-container-id-1 div.sk-label-container {text-align: center;}#sk-container-id-1 div.sk-container {/* jupyter's `normalize.less` sets `[hidden] { display: none; }` but bootstrap.min.css set `[hidden] { display: none !important; }` so we also need the `!important` here to be able to override the default hidden behavior on the sphinx rendered scikit-learn.org. See: https://github.com/scikit-learn/scikit-learn/issues/21755 */display: inline-block !important;position: relative;}#sk-container-id-1 div.sk-text-repr-fallback {display: none;}</style><div id=\"sk-container-id-1\" class=\"sk-top-container\"><div class=\"sk-text-repr-fallback\"><pre>GridSearchCV(cv=5, estimator=GradientBoostingClassifier(random_state=10),\n",
       "             param_grid={&#x27;max_depth&#x27;: [4, 6], &#x27;max_features&#x27;: [&#x27;sqrt&#x27;, &#x27;log2&#x27;]},\n",
       "             scoring=&#x27;accuracy&#x27;, verbose=3)</pre><b>In a Jupyter environment, please rerun this cell to show the HTML representation or trust the notebook. <br />On GitHub, the HTML representation is unable to render, please try loading this page with nbviewer.org.</b></div><div class=\"sk-container\" hidden><div class=\"sk-item sk-dashed-wrapped\"><div class=\"sk-label-container\"><div class=\"sk-label sk-toggleable\"><input class=\"sk-toggleable__control sk-hidden--visually\" id=\"sk-estimator-id-1\" type=\"checkbox\" ><label for=\"sk-estimator-id-1\" class=\"sk-toggleable__label sk-toggleable__label-arrow\">GridSearchCV</label><div class=\"sk-toggleable__content\"><pre>GridSearchCV(cv=5, estimator=GradientBoostingClassifier(random_state=10),\n",
       "             param_grid={&#x27;max_depth&#x27;: [4, 6], &#x27;max_features&#x27;: [&#x27;sqrt&#x27;, &#x27;log2&#x27;]},\n",
       "             scoring=&#x27;accuracy&#x27;, verbose=3)</pre></div></div></div><div class=\"sk-parallel\"><div class=\"sk-parallel-item\"><div class=\"sk-item\"><div class=\"sk-label-container\"><div class=\"sk-label sk-toggleable\"><input class=\"sk-toggleable__control sk-hidden--visually\" id=\"sk-estimator-id-2\" type=\"checkbox\" ><label for=\"sk-estimator-id-2\" class=\"sk-toggleable__label sk-toggleable__label-arrow\">estimator: GradientBoostingClassifier</label><div class=\"sk-toggleable__content\"><pre>GradientBoostingClassifier(random_state=10)</pre></div></div></div><div class=\"sk-serial\"><div class=\"sk-item\"><div class=\"sk-estimator sk-toggleable\"><input class=\"sk-toggleable__control sk-hidden--visually\" id=\"sk-estimator-id-3\" type=\"checkbox\" ><label for=\"sk-estimator-id-3\" class=\"sk-toggleable__label sk-toggleable__label-arrow\">GradientBoostingClassifier</label><div class=\"sk-toggleable__content\"><pre>GradientBoostingClassifier(random_state=10)</pre></div></div></div></div></div></div></div></div></div></div>"
      ],
      "text/plain": [
       "GridSearchCV(cv=5, estimator=GradientBoostingClassifier(random_state=10),\n",
       "             param_grid={'max_depth': [4, 6], 'max_features': ['sqrt', 'log2']},\n",
       "             scoring='accuracy', verbose=3)"
      ]
     },
     "execution_count": 5,
     "metadata": {},
     "output_type": "execute_result"
    }
   ],
   "source": [
    "param_grid = {\n",
    "    'max_features': ['sqrt', 'log2'],\n",
    "    'max_depth' : [4,6]\n",
    "}\n",
    "CV_rfc = GridSearchCV(estimator=gb, param_grid=param_grid, cv= 5, scoring = 'accuracy', verbose = 3)\n",
    "CV_rfc.fit(X_train_resampled, y_train_resampled)"
   ]
  },
  {
   "cell_type": "code",
   "execution_count": 8,
   "id": "d966f03b-1a43-4c58-bacc-d91803b9edc3",
   "metadata": {
    "tags": []
   },
   "outputs": [],
   "source": [
    "predictions_test = CV_rfc.predict(X_test_preprocessed)\n",
    "# print(f\"First 10 Predictions:   {predictions_test[:10]}\")\n",
    "# print(f\"First 10 Actual labels: {y_test[:10].tolist()}\")"
   ]
  },
  {
   "cell_type": "code",
   "execution_count": 9,
   "id": "671f970b-4b97-4ce3-aee5-789b834079e3",
   "metadata": {
    "tags": []
   },
   "outputs": [],
   "source": [
    "predictions_train = CV_rfc.predict(X_train_resampled)\n",
    "# print(f\"First 10 Predictions:   {predictions_train[:10]}\")\n",
    "# print(f\"First 10 Actual labels: {y_train_resampled[:10].tolist()}\")"
   ]
  },
  {
   "cell_type": "code",
   "execution_count": 10,
   "id": "f5734e8c-4ebe-46e8-83e3-f1ffbd951194",
   "metadata": {
    "tags": []
   },
   "outputs": [
    {
     "name": "stdout",
     "output_type": "stream",
     "text": [
      "              precision    recall  f1-score   support\n",
      "\n",
      "           0       0.92      0.93      0.92    183129\n",
      "           1       0.96      0.95      0.96    344240\n",
      "\n",
      "    accuracy                           0.95    527369\n",
      "   macro avg       0.94      0.94      0.94    527369\n",
      "weighted avg       0.95      0.95      0.95    527369\n",
      "\n"
     ]
    }
   ],
   "source": [
    "print(classification_report(y_test, predictions_test))\n"
   ]
  },
  {
   "cell_type": "code",
   "execution_count": 11,
   "id": "3ff6a32b-7ad3-4c5b-9965-8b4f8755ab75",
   "metadata": {
    "tags": []
   },
   "outputs": [
    {
     "name": "stdout",
     "output_type": "stream",
     "text": [
      "              precision    recall  f1-score   support\n",
      "\n",
      "           0       0.95      0.93      0.94    803226\n",
      "           1       0.94      0.96      0.95    803226\n",
      "\n",
      "    accuracy                           0.94   1606452\n",
      "   macro avg       0.94      0.94      0.94   1606452\n",
      "weighted avg       0.94      0.94      0.94   1606452\n",
      "\n"
     ]
    }
   ],
   "source": [
    "print(classification_report(y_train_resampled, predictions_train))\n"
   ]
  },
  {
   "cell_type": "markdown",
   "id": "a55bd4ba-2b51-409b-9374-13d5ccaa6a63",
   "metadata": {},
   "source": [
    "## Print the best hyperparameters found by grid search\n"
   ]
  },
  {
   "cell_type": "code",
   "execution_count": 12,
   "id": "69489d43-0125-4b32-aa8c-ff1c03036198",
   "metadata": {},
   "outputs": [
    {
     "data": {
      "text/plain": [
       "{'max_depth': 6, 'max_features': 'sqrt'}"
      ]
     },
     "execution_count": 12,
     "metadata": {},
     "output_type": "execute_result"
    }
   ],
   "source": [
    "CV_rfc.best_params_"
   ]
  },
  {
   "cell_type": "code",
   "execution_count": 19,
   "id": "03ed2f6d-e54d-4cde-942f-9312b48a1a19",
   "metadata": {},
   "outputs": [
    {
     "data": {
      "text/plain": [
       "array(['0', '1', '2', '3', '4', '5', '6', '7', '8', '9', '10', '11', '12',\n",
       "       '13', '14', '15', '16', '17', '18', '19', '20', '21', '22', '23',\n",
       "       '24', '25', '26', '27', '28', '29', '30', '31', '32', '33', '34',\n",
       "       '35', '36', '37', '38', '39', '40', '41', '42', '43', '44', '45',\n",
       "       '46', '47', '48', '49', '50', '51', '52', '53', '54', '55', '56',\n",
       "       '57', '58', '59', '60', '61', '62', '63', '64', '65', '66', '67',\n",
       "       '68', '69', '70', '71', '72', '73', '74', '75', '76', '77', '78',\n",
       "       '79', '80', '81', '82', '83', '84'], dtype=object)"
      ]
     },
     "execution_count": 19,
     "metadata": {},
     "output_type": "execute_result"
    }
   ],
   "source": [
    "CV_rfc.feature_names_in_"
   ]
  },
  {
   "cell_type": "code",
   "execution_count": 14,
   "id": "c344c2c9-eb3e-4675-bee8-4b39db8981cc",
   "metadata": {
    "tags": []
   },
   "outputs": [
    {
     "data": {
      "text/plain": [
       "['./Models/Gradient_Boosting.sav']"
      ]
     },
     "execution_count": 14,
     "metadata": {},
     "output_type": "execute_result"
    }
   ],
   "source": [
    "import joblib\n",
    "filename = './Models/Gradient_Boosting.sav'\n",
    "joblib.dump(CV_rfc, filename)"
   ]
  },
  {
   "cell_type": "code",
   "execution_count": 21,
   "id": "e04f3fd3-b6d4-49af-b1f0-d3cff0cc3be9",
   "metadata": {},
   "outputs": [
    {
     "data": {
      "text/plain": [
       "(527369, 85)"
      ]
     },
     "execution_count": 21,
     "metadata": {},
     "output_type": "execute_result"
    }
   ],
   "source": [
    "X_test_preprocessed.shape"
   ]
  },
  {
   "cell_type": "markdown",
   "id": "36d1635e-0a7a-47b3-af95-830517a107c1",
   "metadata": {},
   "source": [
    "## Plot feature importances using Gradient Boosting classifier"
   ]
  },
  {
   "cell_type": "code",
   "execution_count": 17,
   "id": "9f71480d-ab8c-4c97-acda-26f4f6e5e7aa",
   "metadata": {},
   "outputs": [
    {
     "data": {
      "image/png": "[encoded data removed]",
      "text/plain": [
       "<Figure size 800x950 with 2 Axes>"
      ]
     },
     "metadata": {},
     "output_type": "display_data"
    }
   ],
   "source": [
    "import shap\n",
    "\n",
    "# Assuming you have already trained your model and obtained predictions\n",
    "# Let's say your model is stored in the variable 'model' and your data is stored in the variable 'X'\n",
    "\n",
    "# Create an explainer object\n",
    "explainer = shap.Explainer(CV_rfc.best_estimator_)\n",
    "\n",
    "# Calculate SHAP values for your data\n",
    "shap_values = explainer(X_test_preprocessed)\n",
    "\n",
    "# Plot the SHAP values\n",
    "shap.summary_plot(shap_values, X_test_preprocessed)\n"
   ]
  },
  {
   "cell_type": "code",
   "execution_count": null,
   "id": "02f218ed-be58-4ecc-b4e8-1f7fa2716822",
   "metadata": {
    "tags": []
   },
   "outputs": [],
   "source": []
  }
 ],
 "metadata": {
  "kernelspec": {
   "display_name": "Python 3 (ipykernel)",
   "language": "python",
   "name": "python3"
  },
  "language_info": {
   "codemirror_mode": {
    "name": "ipython",
    "version": 3
   },
   "file_extension": ".py",
   "mimetype": "text/x-python",
   "name": "python",
   "nbconvert_exporter": "python",
   "pygments_lexer": "ipython3",
   "version": "3.10.9"
  }
 },
 "nbformat": 4,
 "nbformat_minor": 5
}
