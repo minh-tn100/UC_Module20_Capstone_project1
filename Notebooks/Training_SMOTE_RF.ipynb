{
 "cells": [
  {
   "cell_type": "markdown",
   "id": "d81cf17f-f768-4ae0-adb3-3f4397dccd21",
   "metadata": {},
   "source": [
    "# Random Forest"
   ]
  },
  {
   "cell_type": "code",
   "execution_count": 2,
   "id": "a0483c05-ecf4-4646-af38-7238555a2f26",
   "metadata": {
    "id": "a0483c05-ecf4-4646-af38-7238555a2f26",
    "tags": []
   },
   "outputs": [],
   "source": [
    "# !pip install imblearn\n",
    "\n",
    "import os\n",
    "import pandas as pd\n",
    "import numpy as np\n",
    "\n",
    "# store elements as dictionary keys and their counts as dictionary values\n",
    "from collections import Counter\n",
    "\n",
    "# scikit-learn\n",
    "from sklearn.model_selection import train_test_split\n",
    "\n",
    "from sklearn.preprocessing import MinMaxScaler, OneHotEncoder, LabelEncoder\n",
    "from sklearn.compose import ColumnTransformer, make_column_transformer\n",
    "from sklearn.pipeline import make_pipeline\n",
    "\n",
    "# Classification metrics\n",
    "from sklearn.metrics import confusion_matrix, classification_report\n",
    "\n",
    "# Function for creating model pipelines - sklearn\n",
    "from sklearn.pipeline import make_pipeline\n",
    "\n",
    "# Function for creating model pipelines - imblearn\n",
    "from imblearn.pipeline import make_pipeline as imbl_pipe\n",
    "\n",
    "# Over-sampling using SMOTE\n",
    "from imblearn.over_sampling import SMOTE\n",
    "# Import classifier\n",
    "from sklearn.linear_model import LogisticRegression\n",
    "import datetime as dt\n",
    "import pandas as pd\n",
    "import seaborn as sns\n",
    "import matplotlib.pyplot as plt\n",
    "from sklearn.model_selection import train_test_split\n",
    "from sklearn.preprocessing import MinMaxScaler\n",
    "pd.set_option('display.max_columns', None)\n",
    "pd.set_option('display.max_rows', None)\n",
    "from sklearn.model_selection import GridSearchCV\n",
    "from sklearn.neighbors import KNeighborsClassifier\n",
    "from sklearn.ensemble import RandomForestClassifier\n",
    "from sklearn.model_selection import cross_val_score"
   ]
  },
  {
   "cell_type": "markdown",
   "id": "a3c82c71-ca5f-43f0-8c49-5c2c6af1ca3b",
   "metadata": {},
   "source": [
    "## Read the data from a parquet file\n"
   ]
  },
  {
   "cell_type": "code",
   "execution_count": null,
   "id": "f3e2964c-2b9a-48de-bb60-f2dc3b3fdb37",
   "metadata": {
    "id": "f3e2964c-2b9a-48de-bb60-f2dc3b3fdb37",
    "tags": []
   },
   "outputs": [],
   "source": [
    "df = pd.read_parquet('df_age_18.parquet')"
   ]
  },
  {
   "cell_type": "markdown",
   "id": "7466e6be-9e4c-40cb-90ac-4f8da516137e",
   "metadata": {},
   "source": [
    "## Display counts and percentages of the target variable"
   ]
  },
  {
   "cell_type": "code",
   "execution_count": null,
   "id": "6d734229-ca20-4154-b8d5-16728d599a65",
   "metadata": {
    "id": "6d734229-ca20-4154-b8d5-16728d599a65",
    "tags": []
   },
   "outputs": [],
   "source": [
    "# Display counts and percentages\n",
    "value_counts = df['Y'].value_counts()\n",
    "percentages = df['Y'].value_counts(normalize=True) * 100\n",
    "\n",
    "result_df = pd.DataFrame({'Count': value_counts, 'Percentage': percentages})\n",
    "print(result_df)"
   ]
  },
  {
   "cell_type": "markdown",
   "id": "b7686143-fb86-4e9c-befa-de2dfefa7e28",
   "metadata": {},
   "source": [
    "## Drop unnecessary columns from the dataframe\n"
   ]
  },
  {
   "cell_type": "code",
   "execution_count": null,
   "id": "b0e1a0ca-d753-4e6a-b138-b49e0d2f8863",
   "metadata": {
    "id": "b0e1a0ca-d753-4e6a-b138-b49e0d2f8863",
    "tags": []
   },
   "outputs": [],
   "source": [
    "df.drop(columns=['#','EBANK_FIRST_OPEN_DATE','CIF_OPEN_DATE',\n",
    " 'MB2_FIRST_OPEN_DATE',\n",
    " 'SYM_RUN_DATE'],inplace=True)"
   ]
  },
  {
   "cell_type": "markdown",
   "id": "a77f9831-6876-48dd-9d20-c16b65e76d34",
   "metadata": {},
   "source": [
    "## Check for missing values and fill them with 0"
   ]
  },
  {
   "cell_type": "code",
   "execution_count": null,
   "id": "0c9a16e6-e038-4ace-8d41-7d3390ae308b",
   "metadata": {
    "id": "0c9a16e6-e038-4ace-8d41-7d3390ae308b",
    "tags": []
   },
   "outputs": [],
   "source": [
    "df.isnull().sum()"
   ]
  },
  {
   "cell_type": "code",
   "execution_count": null,
   "id": "9e142957-60dd-4cb0-befe-3dfde1379d12",
   "metadata": {
    "id": "9e142957-60dd-4cb0-befe-3dfde1379d12",
    "tags": []
   },
   "outputs": [],
   "source": [
    "df.fillna(0,inplace=True)"
   ]
  },
  {
   "cell_type": "code",
   "execution_count": null,
   "id": "5c1f9ba4-f068-49c6-bca8-89e64b19f530",
   "metadata": {
    "id": "5c1f9ba4-f068-49c6-bca8-89e64b19f530",
    "tags": []
   },
   "outputs": [],
   "source": [
    "df.isnull().sum()"
   ]
  },
  {
   "cell_type": "markdown",
   "id": "4e51e7b3-224a-4404-b8f8-56ebba9eafbc",
   "metadata": {},
   "source": [
    "## Select only numerical features for correlation analysis"
   ]
  },
  {
   "cell_type": "code",
   "execution_count": null,
   "id": "c56942d4-e5ce-4a6e-9a06-6347e1ffc0e7",
   "metadata": {
    "id": "c56942d4-e5ce-4a6e-9a06-6347e1ffc0e7",
    "tags": []
   },
   "outputs": [],
   "source": [
    "df_corr = df[df.select_dtypes(include='number').columns.tolist()]"
   ]
  },
  {
   "cell_type": "markdown",
   "id": "74089d69-2fe9-4cc0-818c-9c1ae38c3c62",
   "metadata": {},
   "source": [
    "## Function to select highly correlated features\n"
   ]
  },
  {
   "cell_type": "code",
   "execution_count": null,
   "id": "447bdf37-338a-4a71-9c2a-a48fa7ebfbf8",
   "metadata": {
    "id": "447bdf37-338a-4a71-9c2a-a48fa7ebfbf8",
    "tags": []
   },
   "outputs": [],
   "source": [
    "# with the following function we can select highly correlated features\n",
    "# it will remove the first feature that is correlated with anything other feature\n",
    "\n",
    "def correlation(dataset, threshold):\n",
    "    col_corr = set()  # Set of all the names of correlated columns\n",
    "    corr_matrix = dataset.corr()\n",
    "    for i in range(len(corr_matrix.columns)):\n",
    "        for j in range(i):\n",
    "            if abs(corr_matrix.iloc[i, j]) > threshold: # we are interested in absolute coeff value\n",
    "                colname = corr_matrix.columns[i]  # getting the name of column\n",
    "                col_corr.add(colname)\n",
    "    return col_corr"
   ]
  },
  {
   "cell_type": "markdown",
   "id": "20ef2603-2713-4e1e-b819-5c6404930ca5",
   "metadata": {},
   "source": [
    "## Find highly correlated features and drop them from the dataframe"
   ]
  },
  {
   "cell_type": "code",
   "execution_count": null,
   "id": "d3278edc-d503-4c2c-9d10-fcf39c1203cb",
   "metadata": {
    "id": "d3278edc-d503-4c2c-9d10-fcf39c1203cb",
    "tags": []
   },
   "outputs": [],
   "source": [
    "corr_features = correlation(df_corr, 0.7)\n",
    "len(set(corr_features))"
   ]
  },
  {
   "cell_type": "code",
   "execution_count": null,
   "id": "d690cbfe-44ba-4e92-9f1c-e8fd9e6e2f31",
   "metadata": {
    "id": "d690cbfe-44ba-4e92-9f1c-e8fd9e6e2f31",
    "tags": []
   },
   "outputs": [],
   "source": [
    "corr_features"
   ]
  },
  {
   "cell_type": "code",
   "execution_count": null,
   "id": "79f07234-e485-4ab6-b1ca-d8f05117cda7",
   "metadata": {
    "id": "79f07234-e485-4ab6-b1ca-d8f05117cda7",
    "tags": []
   },
   "outputs": [],
   "source": [
    "df_filtered = df.drop(corr_features,axis=1)"
   ]
  },
  {
   "cell_type": "code",
   "execution_count": null,
   "id": "378f65a8-b98e-4bde-8810-df7fe6b086c1",
   "metadata": {
    "id": "378f65a8-b98e-4bde-8810-df7fe6b086c1",
    "tags": []
   },
   "outputs": [],
   "source": [
    "df_filtered.to_parquet('df_filtered_corr.parquet')"
   ]
  },
  {
   "cell_type": "code",
   "execution_count": null,
   "id": "b28bc97b-0536-4467-908f-1f19d2b7cb38",
   "metadata": {
    "id": "b28bc97b-0536-4467-908f-1f19d2b7cb38"
   },
   "outputs": [],
   "source": [
    "df_filtered = pd.read_parquet('df_filtered_corr.parquet')"
   ]
  },
  {
   "cell_type": "markdown",
   "id": "80c5eab7-9e6e-4694-8d6b-07e3bb42a304",
   "metadata": {},
   "source": [
    "## Separate dataframe into separate object"
   ]
  },
  {
   "cell_type": "code",
   "execution_count": null,
   "id": "1bcc6549-3b61-4bf2-817a-9312c21995f4",
   "metadata": {
    "id": "1bcc6549-3b61-4bf2-817a-9312c21995f4",
    "tags": []
   },
   "outputs": [],
   "source": [
    "#Separate dataframe into separate object\n",
    "\n",
    "# Object for target variable\n",
    "y = df_filtered.Y\n",
    "\n",
    "# object for input features\n",
    "X = df_filtered.drop(['CLIENT_NO','Y'], axis=1)\n",
    "\n",
    "# display shapes of X and y\n",
    "print(X.shape, y.shape)"
   ]
  },
  {
   "cell_type": "markdown",
   "id": "1159cf17-90ea-4f85-83cb-fe034f2d85a2",
   "metadata": {},
   "source": [
    "## Get the numerical and categorical columns for preprocessing\n"
   ]
  },
  {
   "cell_type": "code",
   "execution_count": null,
   "id": "655e137f-77fb-4a18-9dd6-205b5685c755",
   "metadata": {
    "id": "655e137f-77fb-4a18-9dd6-205b5685c755",
    "tags": []
   },
   "outputs": [],
   "source": [
    "# List numerical features\n",
    "num_columns = X.select_dtypes(include='number').columns.tolist()\n",
    "num_columns"
   ]
  },
  {
   "cell_type": "code",
   "execution_count": null,
   "id": "aaeb39c6-3f79-4228-abf9-0e581b38fb42",
   "metadata": {
    "id": "aaeb39c6-3f79-4228-abf9-0e581b38fb42",
    "tags": []
   },
   "outputs": [],
   "source": [
    "# List categorical features\n",
    "cat_columns = X.select_dtypes(include='object').columns.tolist()\n",
    "cat_columns"
   ]
  },
  {
   "cell_type": "markdown",
   "id": "9973b0e4-6b71-4ef5-b02a-d147dd9374f7",
   "metadata": {},
   "source": [
    "## Split the data into train and test sets\n"
   ]
  },
  {
   "cell_type": "code",
   "execution_count": null,
   "id": "71452417-fbde-4af7-994c-db32d458138d",
   "metadata": {
    "id": "71452417-fbde-4af7-994c-db32d458138d",
    "tags": []
   },
   "outputs": [],
   "source": [
    "random_state = 10\n",
    "\n",
    "# Split X and y into train and test sets\n",
    "X_train, X_test, y_train, y_test = train_test_split(X, y,\n",
    "                                                    test_size=0.3,\n",
    "                                                    random_state=random_state,\n",
    "                                                    stratify=df_filtered.Y)\n",
    "\n",
    "# Print number of observations in X_train, X_test, y_train, and y_test\n",
    "print(len(X_train), len(X_test), len(y_train), len(y_test))"
   ]
  },
  {
   "cell_type": "code",
   "execution_count": null,
   "id": "0e4d48be-5a51-49bc-ba99-c90f3d17cac1",
   "metadata": {
    "id": "0e4d48be-5a51-49bc-ba99-c90f3d17cac1",
    "tags": []
   },
   "outputs": [],
   "source": [
    "X_train.info()"
   ]
  },
  {
   "cell_type": "code",
   "execution_count": null,
   "id": "0f11393b-a85f-4479-a45f-cbf36e513901",
   "metadata": {
    "id": "0f11393b-a85f-4479-a45f-cbf36e513901",
    "tags": []
   },
   "outputs": [],
   "source": [
    "num_features = []\n",
    "\n",
    "for i in num_columns:\n",
    "    location = X.columns.get_loc(i)\n",
    "    num_features.append(location)\n",
    "print(num_features)"
   ]
  },
  {
   "cell_type": "code",
   "execution_count": null,
   "id": "8938ca50-30a7-4e2c-a37c-ca13a89e88b2",
   "metadata": {
    "id": "8938ca50-30a7-4e2c-a37c-ca13a89e88b2",
    "tags": []
   },
   "outputs": [],
   "source": [
    "cat_features = []\n",
    "\n",
    "for i in cat_columns:\n",
    "    location = X.columns.get_loc(i)\n",
    "    cat_features.append(location)\n",
    "print(cat_features)"
   ]
  },
  {
   "cell_type": "code",
   "execution_count": null,
   "id": "810372db-3aca-4d0a-8673-ee7dbf30bb8e",
   "metadata": {
    "id": "810372db-3aca-4d0a-8673-ee7dbf30bb8e",
    "tags": []
   },
   "outputs": [],
   "source": [
    "# Define column transformer\n",
    "# Need to be numeric not string to specify columns name\n",
    "preprocess = make_column_transformer(\n",
    "    (MinMaxScaler(), num_features),\n",
    "    (OneHotEncoder(sparse=False), cat_features)\n",
    ")\n",
    "preprocess"
   ]
  },
  {
   "cell_type": "markdown",
   "id": "adccd471-df10-452a-8de1-c8cb4a01184e",
   "metadata": {},
   "source": [
    "## Fit the preprocessing pipeline on the train data\n"
   ]
  },
  {
   "cell_type": "code",
   "execution_count": null,
   "id": "98b3dfbc-7e00-4d5a-9715-4ccd02761d8f",
   "metadata": {
    "id": "98b3dfbc-7e00-4d5a-9715-4ccd02761d8f",
    "tags": []
   },
   "outputs": [],
   "source": [
    "# Fit preprocessing pipeline on train data\n",
    "preprocess.fit(X_train)"
   ]
  },
  {
   "cell_type": "markdown",
   "id": "da74c49e-dc72-493e-8376-0ed04eb9416e",
   "metadata": {},
   "source": [
    "## Apply the preprocessing pipeline to train and test data\n"
   ]
  },
  {
   "cell_type": "code",
   "execution_count": null,
   "id": "c151279d-1be4-4284-bd5a-21c5c5461eb2",
   "metadata": {
    "id": "c151279d-1be4-4284-bd5a-21c5c5461eb2",
    "tags": []
   },
   "outputs": [],
   "source": [
    "# Apply preprocessing pipeline to train and test data\n",
    "X_train_preprocessed = preprocess.transform(X_train)\n",
    "X_test_preprocessed = preprocess.transform(X_test)"
   ]
  },
  {
   "cell_type": "markdown",
   "id": "21bda1ea-32e1-4a6b-8d8a-7b628ff77885",
   "metadata": {},
   "source": [
    "## Apply SMOTE to handle class imbalance in the train data\n"
   ]
  },
  {
   "cell_type": "code",
   "execution_count": null,
   "id": "a67cbd9a-af94-4fc1-84c7-6b4285e9be02",
   "metadata": {
    "id": "a67cbd9a-af94-4fc1-84c7-6b4285e9be02",
    "tags": []
   },
   "outputs": [],
   "source": [
    "# Define SMOTE object\n",
    "smote = SMOTE(sampling_strategy='auto', random_state=random_state)"
   ]
  },
  {
   "cell_type": "code",
   "execution_count": null,
   "id": "0370981f-dc3e-4371-b6f6-38ffa1fa3864",
   "metadata": {
    "id": "0370981f-dc3e-4371-b6f6-38ffa1fa3864",
    "tags": []
   },
   "outputs": [],
   "source": [
    "# Fit SMOTE on preprocessed train data\n",
    "X_train_resampled, y_train_resampled = smote.fit_resample(X_train_preprocessed, y_train)"
   ]
  },
  {
   "cell_type": "code",
   "execution_count": null,
   "id": "db25776d-6958-4c60-87d6-001e014d0150",
   "metadata": {
    "id": "db25776d-6958-4c60-87d6-001e014d0150",
    "tags": []
   },
   "outputs": [],
   "source": [
    "len(X_train_resampled)"
   ]
  },
  {
   "cell_type": "code",
   "execution_count": null,
   "id": "e848c58c-d9ae-44f3-9a56-71ca7df05991",
   "metadata": {
    "id": "e848c58c-d9ae-44f3-9a56-71ca7df05991"
   },
   "outputs": [],
   "source": [
    "160645"
   ]
  },
  {
   "cell_type": "code",
   "execution_count": null,
   "id": "a4fcdb80-5b4b-46c4-8c93-5385dd9b00c1",
   "metadata": {
    "id": "a4fcdb80-5b4b-46c4-8c93-5385dd9b00c1",
    "tags": []
   },
   "outputs": [],
   "source": [
    "pd.DataFrame(X_train_resampled).to_parquet(\"X_train_resampled.parquet\",index=False)\n",
    "pd.DataFrame(y_train_resampled).to_parquet(\"y_train_resampled.parquet\",index=False)\n",
    "pd.DataFrame(X_test_preprocessed).to_parquet(\"X_test_preprocessed.parquet\",index=False)\n",
    "pd.DataFrame(y_test).to_parquet(\"y_test.parquet\",index=False)"
   ]
  },
  {
   "cell_type": "markdown",
   "id": "b29127e5-8468-4cfa-a86d-e171f2324f9c",
   "metadata": {
    "id": "b29127e5-8468-4cfa-a86d-e171f2324f9c"
   },
   "source": [
    "## Define the KNN classifier and set hyperparameters for grid search\n"
   ]
  },
  {
   "cell_type": "code",
   "execution_count": 4,
   "id": "595631cf-cb91-4d02-a59f-ce855254f5c0",
   "metadata": {
    "id": "595631cf-cb91-4d02-a59f-ce855254f5c0",
    "tags": []
   },
   "outputs": [],
   "source": [
    "X_train_resampled = pd.read_parquet('/content/drive/MyDrive/GGCLB/X_train_resampled.parquet')\n",
    "y_train_resampled = pd.read_parquet('/content/drive/MyDrive/GGCLB/y_train_resampled.parquet')\n",
    "X_test_preprocessed = pd.read_parquet('/content/drive/MyDrive/GGCLB/X_test_preprocessed.parquet')\n",
    "y_test = pd.read_parquet('/content/drive/MyDrive/GGCLB/y_test.parquet')"
   ]
  },
  {
   "cell_type": "code",
   "execution_count": 5,
   "id": "5323f0ce-3684-45fa-8220-ed778e8757a6",
   "metadata": {
    "id": "5323f0ce-3684-45fa-8220-ed778e8757a6",
    "tags": []
   },
   "outputs": [],
   "source": [
    "# Define RF classifier\n",
    "rfc = RandomForestClassifier(random_state=10)"
   ]
  },
  {
   "cell_type": "code",
   "execution_count": 7,
   "id": "8P4a-JK2p7Qo",
   "metadata": {
    "colab": {
     "base_uri": "https://localhost:8080/",
     "height": 1000
    },
    "id": "8P4a-JK2p7Qo",
    "outputId": "ea08a8e2-37a5-4fb4-c4b2-850ebbd138a6"
   },
   "outputs": [
    {
     "name": "stdout",
     "output_type": "stream",
     "text": [
      "Fitting 5 folds for each of 4 candidates, totalling 20 fits\n"
     ]
    },
    {
     "name": "stderr",
     "output_type": "stream",
     "text": [
      "/usr/local/lib/python3.10/dist-packages/sklearn/model_selection/_validation.py:686: DataConversionWarning: A column-vector y was passed when a 1d array was expected. Please change the shape of y to (n_samples,), for example using ravel().\n",
      "  estimator.fit(X_train, y_train, **fit_params)\n"
     ]
    },
    {
     "name": "stdout",
     "output_type": "stream",
     "text": [
      "[CV 1/5] END ....max_depth=4, max_features=sqrt;, score=0.938 total time= 1.4min\n"
     ]
    },
    {
     "name": "stderr",
     "output_type": "stream",
     "text": [
      "/usr/local/lib/python3.10/dist-packages/sklearn/model_selection/_validation.py:686: DataConversionWarning: A column-vector y was passed when a 1d array was expected. Please change the shape of y to (n_samples,), for example using ravel().\n",
      "  estimator.fit(X_train, y_train, **fit_params)\n"
     ]
    },
    {
     "name": "stdout",
     "output_type": "stream",
     "text": [
      "[CV 2/5] END ....max_depth=4, max_features=sqrt;, score=0.938 total time= 1.3min\n"
     ]
    },
    {
     "name": "stderr",
     "output_type": "stream",
     "text": [
      "/usr/local/lib/python3.10/dist-packages/sklearn/model_selection/_validation.py:686: DataConversionWarning: A column-vector y was passed when a 1d array was expected. Please change the shape of y to (n_samples,), for example using ravel().\n",
      "  estimator.fit(X_train, y_train, **fit_params)\n"
     ]
    },
    {
     "name": "stdout",
     "output_type": "stream",
     "text": [
      "[CV 3/5] END ....max_depth=4, max_features=sqrt;, score=0.939 total time= 1.3min\n"
     ]
    },
    {
     "name": "stderr",
     "output_type": "stream",
     "text": [
      "/usr/local/lib/python3.10/dist-packages/sklearn/model_selection/_validation.py:686: DataConversionWarning: A column-vector y was passed when a 1d array was expected. Please change the shape of y to (n_samples,), for example using ravel().\n",
      "  estimator.fit(X_train, y_train, **fit_params)\n"
     ]
    },
    {
     "name": "stdout",
     "output_type": "stream",
     "text": [
      "[CV 4/5] END ....max_depth=4, max_features=sqrt;, score=0.941 total time= 1.4min\n"
     ]
    },
    {
     "name": "stderr",
     "output_type": "stream",
     "text": [
      "/usr/local/lib/python3.10/dist-packages/sklearn/model_selection/_validation.py:686: DataConversionWarning: A column-vector y was passed when a 1d array was expected. Please change the shape of y to (n_samples,), for example using ravel().\n",
      "  estimator.fit(X_train, y_train, **fit_params)\n"
     ]
    },
    {
     "name": "stdout",
     "output_type": "stream",
     "text": [
      "[CV 5/5] END ....max_depth=4, max_features=sqrt;, score=0.941 total time= 1.4min\n"
     ]
    },
    {
     "name": "stderr",
     "output_type": "stream",
     "text": [
      "/usr/local/lib/python3.10/dist-packages/sklearn/model_selection/_validation.py:686: DataConversionWarning: A column-vector y was passed when a 1d array was expected. Please change the shape of y to (n_samples,), for example using ravel().\n",
      "  estimator.fit(X_train, y_train, **fit_params)\n"
     ]
    },
    {
     "name": "stdout",
     "output_type": "stream",
     "text": [
      "[CV 1/5] END ....max_depth=4, max_features=log2;, score=0.937 total time= 1.1min\n"
     ]
    },
    {
     "name": "stderr",
     "output_type": "stream",
     "text": [
      "/usr/local/lib/python3.10/dist-packages/sklearn/model_selection/_validation.py:686: DataConversionWarning: A column-vector y was passed when a 1d array was expected. Please change the shape of y to (n_samples,), for example using ravel().\n",
      "  estimator.fit(X_train, y_train, **fit_params)\n"
     ]
    },
    {
     "name": "stdout",
     "output_type": "stream",
     "text": [
      "[CV 2/5] END ....max_depth=4, max_features=log2;, score=0.936 total time= 1.1min\n"
     ]
    },
    {
     "name": "stderr",
     "output_type": "stream",
     "text": [
      "/usr/local/lib/python3.10/dist-packages/sklearn/model_selection/_validation.py:686: DataConversionWarning: A column-vector y was passed when a 1d array was expected. Please change the shape of y to (n_samples,), for example using ravel().\n",
      "  estimator.fit(X_train, y_train, **fit_params)\n"
     ]
    },
    {
     "name": "stdout",
     "output_type": "stream",
     "text": [
      "[CV 3/5] END ....max_depth=4, max_features=log2;, score=0.936 total time= 1.1min\n"
     ]
    },
    {
     "name": "stderr",
     "output_type": "stream",
     "text": [
      "/usr/local/lib/python3.10/dist-packages/sklearn/model_selection/_validation.py:686: DataConversionWarning: A column-vector y was passed when a 1d array was expected. Please change the shape of y to (n_samples,), for example using ravel().\n",
      "  estimator.fit(X_train, y_train, **fit_params)\n"
     ]
    },
    {
     "name": "stdout",
     "output_type": "stream",
     "text": [
      "[CV 4/5] END ....max_depth=4, max_features=log2;, score=0.939 total time= 1.1min\n"
     ]
    },
    {
     "name": "stderr",
     "output_type": "stream",
     "text": [
      "/usr/local/lib/python3.10/dist-packages/sklearn/model_selection/_validation.py:686: DataConversionWarning: A column-vector y was passed when a 1d array was expected. Please change the shape of y to (n_samples,), for example using ravel().\n",
      "  estimator.fit(X_train, y_train, **fit_params)\n"
     ]
    },
    {
     "name": "stdout",
     "output_type": "stream",
     "text": [
      "[CV 5/5] END ....max_depth=4, max_features=log2;, score=0.940 total time= 1.1min\n"
     ]
    },
    {
     "name": "stderr",
     "output_type": "stream",
     "text": [
      "/usr/local/lib/python3.10/dist-packages/sklearn/model_selection/_validation.py:686: DataConversionWarning: A column-vector y was passed when a 1d array was expected. Please change the shape of y to (n_samples,), for example using ravel().\n",
      "  estimator.fit(X_train, y_train, **fit_params)\n"
     ]
    },
    {
     "name": "stdout",
     "output_type": "stream",
     "text": [
      "[CV 1/5] END ....max_depth=6, max_features=sqrt;, score=0.939 total time= 1.9min\n"
     ]
    },
    {
     "name": "stderr",
     "output_type": "stream",
     "text": [
      "/usr/local/lib/python3.10/dist-packages/sklearn/model_selection/_validation.py:686: DataConversionWarning: A column-vector y was passed when a 1d array was expected. Please change the shape of y to (n_samples,), for example using ravel().\n",
      "  estimator.fit(X_train, y_train, **fit_params)\n"
     ]
    },
    {
     "name": "stdout",
     "output_type": "stream",
     "text": [
      "[CV 2/5] END ....max_depth=6, max_features=sqrt;, score=0.939 total time= 1.9min\n"
     ]
    },
    {
     "name": "stderr",
     "output_type": "stream",
     "text": [
      "/usr/local/lib/python3.10/dist-packages/sklearn/model_selection/_validation.py:686: DataConversionWarning: A column-vector y was passed when a 1d array was expected. Please change the shape of y to (n_samples,), for example using ravel().\n",
      "  estimator.fit(X_train, y_train, **fit_params)\n"
     ]
    },
    {
     "name": "stdout",
     "output_type": "stream",
     "text": [
      "[CV 3/5] END ....max_depth=6, max_features=sqrt;, score=0.940 total time= 1.9min\n"
     ]
    },
    {
     "name": "stderr",
     "output_type": "stream",
     "text": [
      "/usr/local/lib/python3.10/dist-packages/sklearn/model_selection/_validation.py:686: DataConversionWarning: A column-vector y was passed when a 1d array was expected. Please change the shape of y to (n_samples,), for example using ravel().\n",
      "  estimator.fit(X_train, y_train, **fit_params)\n"
     ]
    },
    {
     "name": "stdout",
     "output_type": "stream",
     "text": [
      "[CV 4/5] END ....max_depth=6, max_features=sqrt;, score=0.942 total time= 1.9min\n"
     ]
    },
    {
     "name": "stderr",
     "output_type": "stream",
     "text": [
      "/usr/local/lib/python3.10/dist-packages/sklearn/model_selection/_validation.py:686: DataConversionWarning: A column-vector y was passed when a 1d array was expected. Please change the shape of y to (n_samples,), for example using ravel().\n",
      "  estimator.fit(X_train, y_train, **fit_params)\n"
     ]
    },
    {
     "name": "stdout",
     "output_type": "stream",
     "text": [
      "[CV 5/5] END ....max_depth=6, max_features=sqrt;, score=0.943 total time= 1.7min\n"
     ]
    },
    {
     "name": "stderr",
     "output_type": "stream",
     "text": [
      "/usr/local/lib/python3.10/dist-packages/sklearn/model_selection/_validation.py:686: DataConversionWarning: A column-vector y was passed when a 1d array was expected. Please change the shape of y to (n_samples,), for example using ravel().\n",
      "  estimator.fit(X_train, y_train, **fit_params)\n"
     ]
    },
    {
     "name": "stdout",
     "output_type": "stream",
     "text": [
      "[CV 1/5] END ....max_depth=6, max_features=log2;, score=0.938 total time= 1.3min\n"
     ]
    },
    {
     "name": "stderr",
     "output_type": "stream",
     "text": [
      "/usr/local/lib/python3.10/dist-packages/sklearn/model_selection/_validation.py:686: DataConversionWarning: A column-vector y was passed when a 1d array was expected. Please change the shape of y to (n_samples,), for example using ravel().\n",
      "  estimator.fit(X_train, y_train, **fit_params)\n"
     ]
    },
    {
     "name": "stdout",
     "output_type": "stream",
     "text": [
      "[CV 2/5] END ....max_depth=6, max_features=log2;, score=0.939 total time= 1.2min\n"
     ]
    },
    {
     "name": "stderr",
     "output_type": "stream",
     "text": [
      "/usr/local/lib/python3.10/dist-packages/sklearn/model_selection/_validation.py:686: DataConversionWarning: A column-vector y was passed when a 1d array was expected. Please change the shape of y to (n_samples,), for example using ravel().\n",
      "  estimator.fit(X_train, y_train, **fit_params)\n"
     ]
    },
    {
     "name": "stdout",
     "output_type": "stream",
     "text": [
      "[CV 3/5] END ....max_depth=6, max_features=log2;, score=0.939 total time= 1.2min\n"
     ]
    },
    {
     "name": "stderr",
     "output_type": "stream",
     "text": [
      "/usr/local/lib/python3.10/dist-packages/sklearn/model_selection/_validation.py:686: DataConversionWarning: A column-vector y was passed when a 1d array was expected. Please change the shape of y to (n_samples,), for example using ravel().\n",
      "  estimator.fit(X_train, y_train, **fit_params)\n"
     ]
    },
    {
     "name": "stdout",
     "output_type": "stream",
     "text": [
      "[CV 4/5] END ....max_depth=6, max_features=log2;, score=0.942 total time= 1.2min\n"
     ]
    },
    {
     "name": "stderr",
     "output_type": "stream",
     "text": [
      "/usr/local/lib/python3.10/dist-packages/sklearn/model_selection/_validation.py:686: DataConversionWarning: A column-vector y was passed when a 1d array was expected. Please change the shape of y to (n_samples,), for example using ravel().\n",
      "  estimator.fit(X_train, y_train, **fit_params)\n"
     ]
    },
    {
     "name": "stdout",
     "output_type": "stream",
     "text": [
      "[CV 5/5] END ....max_depth=6, max_features=log2;, score=0.942 total time= 1.2min\n"
     ]
    },
    {
     "name": "stderr",
     "output_type": "stream",
     "text": [
      "/usr/local/lib/python3.10/dist-packages/sklearn/model_selection/_search.py:909: DataConversionWarning: A column-vector y was passed when a 1d array was expected. Please change the shape of y to (n_samples,), for example using ravel().\n",
      "  self.best_estimator_.fit(X, y, **fit_params)\n"
     ]
    },
    {
     "data": {
      "text/html": [
       "<style>#sk-container-id-1 {color: black;background-color: white;}#sk-container-id-1 pre{padding: 0;}#sk-container-id-1 div.sk-toggleable {background-color: white;}#sk-container-id-1 label.sk-toggleable__label {cursor: pointer;display: block;width: 100%;margin-bottom: 0;padding: 0.3em;box-sizing: border-box;text-align: center;}#sk-container-id-1 label.sk-toggleable__label-arrow:before {content: \"▸\";float: left;margin-right: 0.25em;color: #696969;}#sk-container-id-1 label.sk-toggleable__label-arrow:hover:before {color: black;}#sk-container-id-1 div.sk-estimator:hover label.sk-toggleable__label-arrow:before {color: black;}#sk-container-id-1 div.sk-toggleable__content {max-height: 0;max-width: 0;overflow: hidden;text-align: left;background-color: #f0f8ff;}#sk-container-id-1 div.sk-toggleable__content pre {margin: 0.2em;color: black;border-radius: 0.25em;background-color: #f0f8ff;}#sk-container-id-1 input.sk-toggleable__control:checked~div.sk-toggleable__content {max-height: 200px;max-width: 100%;overflow: auto;}#sk-container-id-1 input.sk-toggleable__control:checked~label.sk-toggleable__label-arrow:before {content: \"▾\";}#sk-container-id-1 div.sk-estimator input.sk-toggleable__control:checked~label.sk-toggleable__label {background-color: #d4ebff;}#sk-container-id-1 div.sk-label input.sk-toggleable__control:checked~label.sk-toggleable__label {background-color: #d4ebff;}#sk-container-id-1 input.sk-hidden--visually {border: 0;clip: rect(1px 1px 1px 1px);clip: rect(1px, 1px, 1px, 1px);height: 1px;margin: -1px;overflow: hidden;padding: 0;position: absolute;width: 1px;}#sk-container-id-1 div.sk-estimator {font-family: monospace;background-color: #f0f8ff;border: 1px dotted black;border-radius: 0.25em;box-sizing: border-box;margin-bottom: 0.5em;}#sk-container-id-1 div.sk-estimator:hover {background-color: #d4ebff;}#sk-container-id-1 div.sk-parallel-item::after {content: \"\";width: 100%;border-bottom: 1px solid gray;flex-grow: 1;}#sk-container-id-1 div.sk-label:hover label.sk-toggleable__label {background-color: #d4ebff;}#sk-container-id-1 div.sk-serial::before {content: \"\";position: absolute;border-left: 1px solid gray;box-sizing: border-box;top: 0;bottom: 0;left: 50%;z-index: 0;}#sk-container-id-1 div.sk-serial {display: flex;flex-direction: column;align-items: center;background-color: white;padding-right: 0.2em;padding-left: 0.2em;position: relative;}#sk-container-id-1 div.sk-item {position: relative;z-index: 1;}#sk-container-id-1 div.sk-parallel {display: flex;align-items: stretch;justify-content: center;background-color: white;position: relative;}#sk-container-id-1 div.sk-item::before, #sk-container-id-1 div.sk-parallel-item::before {content: \"\";position: absolute;border-left: 1px solid gray;box-sizing: border-box;top: 0;bottom: 0;left: 50%;z-index: -1;}#sk-container-id-1 div.sk-parallel-item {display: flex;flex-direction: column;z-index: 1;position: relative;background-color: white;}#sk-container-id-1 div.sk-parallel-item:first-child::after {align-self: flex-end;width: 50%;}#sk-container-id-1 div.sk-parallel-item:last-child::after {align-self: flex-start;width: 50%;}#sk-container-id-1 div.sk-parallel-item:only-child::after {width: 0;}#sk-container-id-1 div.sk-dashed-wrapped {border: 1px dashed gray;margin: 0 0.4em 0.5em 0.4em;box-sizing: border-box;padding-bottom: 0.4em;background-color: white;}#sk-container-id-1 div.sk-label label {font-family: monospace;font-weight: bold;display: inline-block;line-height: 1.2em;}#sk-container-id-1 div.sk-label-container {text-align: center;}#sk-container-id-1 div.sk-container {/* jupyter's `normalize.less` sets `[hidden] { display: none; }` but bootstrap.min.css set `[hidden] { display: none !important; }` so we also need the `!important` here to be able to override the default hidden behavior on the sphinx rendered scikit-learn.org. See: https://github.com/scikit-learn/scikit-learn/issues/21755 */display: inline-block !important;position: relative;}#sk-container-id-1 div.sk-text-repr-fallback {display: none;}</style><div id=\"sk-container-id-1\" class=\"sk-top-container\"><div class=\"sk-text-repr-fallback\"><pre>GridSearchCV(cv=5, estimator=RandomForestClassifier(random_state=10),\n",
       "             param_grid={&#x27;max_depth&#x27;: [4, 6], &#x27;max_features&#x27;: [&#x27;sqrt&#x27;, &#x27;log2&#x27;]},\n",
       "             scoring=&#x27;accuracy&#x27;, verbose=3)</pre><b>In a Jupyter environment, please rerun this cell to show the HTML representation or trust the notebook. <br />On GitHub, the HTML representation is unable to render, please try loading this page with nbviewer.org.</b></div><div class=\"sk-container\" hidden><div class=\"sk-item sk-dashed-wrapped\"><div class=\"sk-label-container\"><div class=\"sk-label sk-toggleable\"><input class=\"sk-toggleable__control sk-hidden--visually\" id=\"sk-estimator-id-1\" type=\"checkbox\" ><label for=\"sk-estimator-id-1\" class=\"sk-toggleable__label sk-toggleable__label-arrow\">GridSearchCV</label><div class=\"sk-toggleable__content\"><pre>GridSearchCV(cv=5, estimator=RandomForestClassifier(random_state=10),\n",
       "             param_grid={&#x27;max_depth&#x27;: [4, 6], &#x27;max_features&#x27;: [&#x27;sqrt&#x27;, &#x27;log2&#x27;]},\n",
       "             scoring=&#x27;accuracy&#x27;, verbose=3)</pre></div></div></div><div class=\"sk-parallel\"><div class=\"sk-parallel-item\"><div class=\"sk-item\"><div class=\"sk-label-container\"><div class=\"sk-label sk-toggleable\"><input class=\"sk-toggleable__control sk-hidden--visually\" id=\"sk-estimator-id-2\" type=\"checkbox\" ><label for=\"sk-estimator-id-2\" class=\"sk-toggleable__label sk-toggleable__label-arrow\">estimator: RandomForestClassifier</label><div class=\"sk-toggleable__content\"><pre>RandomForestClassifier(random_state=10)</pre></div></div></div><div class=\"sk-serial\"><div class=\"sk-item\"><div class=\"sk-estimator sk-toggleable\"><input class=\"sk-toggleable__control sk-hidden--visually\" id=\"sk-estimator-id-3\" type=\"checkbox\" ><label for=\"sk-estimator-id-3\" class=\"sk-toggleable__label sk-toggleable__label-arrow\">RandomForestClassifier</label><div class=\"sk-toggleable__content\"><pre>RandomForestClassifier(random_state=10)</pre></div></div></div></div></div></div></div></div></div></div>"
      ],
      "text/plain": [
       "GridSearchCV(cv=5, estimator=RandomForestClassifier(random_state=10),\n",
       "             param_grid={'max_depth': [4, 6], 'max_features': ['sqrt', 'log2']},\n",
       "             scoring='accuracy', verbose=3)"
      ]
     },
     "execution_count": 7,
     "metadata": {},
     "output_type": "execute_result"
    }
   ],
   "source": [
    "param_grid = {\n",
    "    'max_features': ['sqrt', 'log2'],\n",
    "    'max_depth' : [4,6]\n",
    "}\n",
    "CV_rfc = GridSearchCV(estimator=rfc, param_grid=param_grid, cv= 5, scoring = 'accuracy', verbose = 3)\n",
    "CV_rfc.fit(X_train_resampled, y_train_resampled)"
   ]
  },
  {
   "cell_type": "markdown",
   "id": "0c5c427e-e3ff-493b-a231-66f1046ac4d8",
   "metadata": {},
   "source": [
    "## Print the best hyperparameters found by grid search\n"
   ]
  },
  {
   "cell_type": "code",
   "execution_count": 8,
   "id": "TQ5I_vEduTCr",
   "metadata": {
    "colab": {
     "base_uri": "https://localhost:8080/"
    },
    "id": "TQ5I_vEduTCr",
    "outputId": "5ab45eb9-629b-4e00-c7e9-83345fc898d3"
   },
   "outputs": [
    {
     "name": "stdout",
     "output_type": "stream",
     "text": [
      "RandomForestClassifier(max_depth=6, random_state=10)\n"
     ]
    }
   ],
   "source": [
    "print(CV_rfc.best_estimator_)"
   ]
  },
  {
   "cell_type": "code",
   "execution_count": 9,
   "id": "xUhz33Cwxf1l",
   "metadata": {
    "colab": {
     "base_uri": "https://localhost:8080/"
    },
    "id": "xUhz33Cwxf1l",
    "outputId": "c4bf86fc-45fa-4f03-c33a-4bdbcabcf307"
   },
   "outputs": [
    {
     "name": "stdout",
     "output_type": "stream",
     "text": [
      "{'max_depth': 6, 'max_features': 'sqrt'}\n"
     ]
    }
   ],
   "source": [
    "print(CV_rfc.best_params_)"
   ]
  },
  {
   "cell_type": "code",
   "execution_count": 12,
   "id": "_vzDkorzx4I6",
   "metadata": {
    "colab": {
     "base_uri": "https://localhost:8080/"
    },
    "id": "_vzDkorzx4I6",
    "outputId": "935c6f98-e1bd-43ee-e40e-2dd4d2d9277f"
   },
   "outputs": [
    {
     "name": "stdout",
     "output_type": "stream",
     "text": [
      "              precision    recall  f1-score   support\n",
      "\n",
      "           0       0.94      0.94      0.94    803226\n",
      "           1       0.94      0.94      0.94    803226\n",
      "\n",
      "    accuracy                           0.94   1606452\n",
      "   macro avg       0.94      0.94      0.94   1606452\n",
      "weighted avg       0.94      0.94      0.94   1606452\n",
      "\n"
     ]
    }
   ],
   "source": [
    "predictions_train = CV_rfc.predict(X_train_resampled)\n",
    "print(classification_report(y_train_resampled, predictions_train))\n"
   ]
  },
  {
   "cell_type": "code",
   "execution_count": 10,
   "id": "DgI07_SuxsEG",
   "metadata": {
    "colab": {
     "base_uri": "https://localhost:8080/"
    },
    "id": "DgI07_SuxsEG",
    "outputId": "f7608b0f-a7a7-44b9-8006-a75dbbb99684"
   },
   "outputs": [
    {
     "name": "stdout",
     "output_type": "stream",
     "text": [
      "              precision    recall  f1-score   support\n",
      "\n",
      "           0       0.89      0.94      0.91    183129\n",
      "           1       0.97      0.94      0.95    344240\n",
      "\n",
      "    accuracy                           0.94    527369\n",
      "   macro avg       0.93      0.94      0.93    527369\n",
      "weighted avg       0.94      0.94      0.94    527369\n",
      "\n"
     ]
    }
   ],
   "source": [
    "predictions_test = CV_rfc.predict(X_test_preprocessed)\n",
    "print(classification_report(y_test, predictions_test))\n"
   ]
  },
  {
   "cell_type": "code",
   "execution_count": 13,
   "id": "AMV9Zx-By1qH",
   "metadata": {
    "colab": {
     "base_uri": "https://localhost:8080/"
    },
    "id": "AMV9Zx-By1qH",
    "outputId": "74d61dce-82ff-4413-c7ec-00a97d57c959"
   },
   "outputs": [
    {
     "data": {
      "text/plain": [
       "['/content/drive/MyDrive/GGCLB/RF.sav']"
      ]
     },
     "execution_count": 13,
     "metadata": {},
     "output_type": "execute_result"
    }
   ],
   "source": [
    "import joblib\n",
    "filename = '/RF.sav'\n",
    "joblib.dump(CV_rfc, filename)"
   ]
  },
  {
   "cell_type": "code",
   "execution_count": null,
   "id": "69489d43-0125-4b32-aa8c-ff1c03036198",
   "metadata": {
    "id": "69489d43-0125-4b32-aa8c-ff1c03036198"
   },
   "outputs": [],
   "source": []
  }
 ],
 "metadata": {
  "accelerator": "GPU",
  "colab": {
   "gpuType": "V100",
   "machine_shape": "hm",
   "provenance": []
  },
  "kernelspec": {
   "display_name": "Python 3 (ipykernel)",
   "language": "python",
   "name": "python3"
  },
  "language_info": {
   "codemirror_mode": {
    "name": "ipython",
    "version": 3
   },
   "file_extension": ".py",
   "mimetype": "text/x-python",
   "name": "python",
   "nbconvert_exporter": "python",
   "pygments_lexer": "ipython3",
   "version": "3.10.9"
  }
 },
 "nbformat": 4,
 "nbformat_minor": 5
}
